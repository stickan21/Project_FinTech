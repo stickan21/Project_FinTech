{
 "cells": [
  {
   "cell_type": "markdown",
   "metadata": {},
   "source": [
    "# INTELLIGENT INVESTMENT CONSULTANT FOR LENDING CLUB</p>\n",
    "### Author: Yong Zhao"
   ]
  },
  {
   "cell_type": "markdown",
   "metadata": {},
   "source": [
    "## TABLE OF CONTENTS\n",
    "\n",
    "1. [Introduction](#INTRODUCTION)\n",
    "2. [Project Summary](#PROJECT-SUMMARY)\n",
    "3. [Data Acquisition](#Data-Acquisition)\n",
    "4. [Exploratory Analysis](#Exploratory-Analysis)\n",
    " - [Feature Exploration](#Feature-Exploration)\n",
    " - [Data Exploration](#Data-Exploration)\n",
    " - [Exploratory Visualization](#Exploratory-Visualization)\n",
    "5. [Feature Engineering](#Feature-Engineering)\n",
    " - [Categorical Feature Treatment](#Categorical-Feature-Treatment)\n",
    " - [Feature Responses Visualization](#Feature-Responses-Visualization)\n",
    "6. [XGBoost Model Buidling](#XGBoost-Model-Building)\n",
    " - [Train/Test Splitting](#Train/Test-Splitting)\n",
    " - [Parameter Auto-tuning](#Parameter-Auto-tuning)\n",
    " - [Find Best Parameters](#Find-Best-Parameters)\n",
    "7. [Model Integration](#Model-Integration)\n",
    "8. [Model Evaluation](#Model-Evaluation)\n",
    " - [Feature Importance](#Feature-Importance)\n",
    " - [Testing Set Scores](#Testing-Set-Scores)\n",
    " - [Plot ROC-AUC](#Plot-ROC-AUC)\n",
    " - [Select Thresholds](#Select-Thresholds)\n",
    "9. [CONCLUSION](#CONCLUSION)\n"
   ]
  },
  {
   "cell_type": "markdown",
   "metadata": {},
   "source": [
    "# INTRODUCTION\n",
    "\n",
    "[[go back to the top]](#TABLE-OF-CONTENTS)\n",
    "\n",
    "[Lending Club](https://www.lendingclub.com/) is a US peer-to-peer lending company that provides a largest peer-to-peer online lending platform. The Lending Club’s platform enables borrowers to obtain a loan funded by investors. Investors profit from interest payments on loans. Based on the levels of loans' default rate, Lending categorizes the quality of the loans into seven grades, each of which assigned with different interest rates and risks. From the investors' point of view, they want to find out the potential default rate of each specific loans, in order to avoid investing on those loans with high risk of default. **The goal of this project is to build a predictive model to predict the default rate of the newly issued loans, based on information from historic loans.** \n",
    "\n",
    "The centerpiece of this model’s operation is to use algorithm to choose which notes to invest in. Often investors have to choose between hundreds or thousands of available loans at Lending Club. This model makes the process easier by using machine-learning to calculate which notes are more likely to perform better than others. The moment new loans are added to the platforms, the algorithm analyzes the variables of these loans and only invests in the best ones."
   ]
  },
  {
   "cell_type": "markdown",
   "metadata": {},
   "source": [
    "# PROJECT SUMMARY\n",
    "\n",
    "[[go back to the top]](#TABLE-OF-CONTENTS)\n",
    "\n",
    "This project is implemented using Python on the Jupyter Notebook platform. Data processing and machine learning packages such as Pandas and Sci-kit Learn are utilized. The modeling is trained based on the Lending Club's historic loan data from year 2014.\n",
    "\n",
    "The target is to predict the default rate of the new loans listed on Lending Club. The workflow of the project consists of 6 steps: \n",
    "* [Loading Data](#Data-Acquisition)\n",
    "* [Exploratory Analysis](#Exploratory-Analysis)\n",
    "* [Feature Engineering](#Feature-Enginering)\n",
    "* [Model Building](#Model-Building)\n",
    "* [Model Integration](#Model-Integration)\n",
    "* [Model Evaluation](#Model-Evaluation)\n",
    "\n",
    "Data cleaning are performed to uniform the features used in the training set and the target set. Categorical variables are extracted into meaningful features for model input via feature engineering. XGBoost (Extreme Gradient Boost) is used as the modeling algorithm. As a advanced Gradient Boosted Regression Trees (GBRT) algorithm,  XGBoost adopted several advantages of GBRT such as: natural handling of data of mixed type , predictive power, robustness to outliers in output space (via robust loss functions). Combining both Random Forest and Adaptive Gradent Boosting algorithms, XGBoost exhibited high efficiency and flexibility in modeling large datasets with ease of implementation. \n",
    "\n",
    "The model is then autotuned to optimize its performance using Bayesian Optimization and Cross Validation. The tuned model is tested using the Area Under Curve (AUC) of the Receiver Operating Characteristics (ROC) as the performance metrics. The overall AUC score reaches above 73% on the testing set. Finally, the tuned model is saved using Pickle and integrated into an interactive web-application built with Flask Framework.\n",
    "\n",
    "The total runtime for model building and model tuning may take 4-5 hours, depending on computer hardware. "
   ]
  },
  {
   "cell_type": "markdown",
   "metadata": {},
   "source": [
    "## Required Libraries\n",
    "\n",
    "This notebook uses several standard Python packages and special packages for model building and model tuning. The primary libraries that we'll be using are:\n",
    "\n",
    "* **requests**: request data from API servers. \n",
    "* **pandas**: and **numpy**: numeric paneled data operation. \n",
    "* **matplotlib** and **seaborn**: data visualization.\n",
    "* **xgboost**: XGBoost algorithm.\n",
    "* **bayes_opt**: Bayesian Optimization.\n",
    "* **sklearn**: Sci-kit Learn for model buidling and evaluation.\n"
   ]
  },
  {
   "cell_type": "code",
   "execution_count": 4,
   "metadata": {
    "collapsed": false
   },
   "outputs": [],
   "source": [
    "import requests\n",
    "import json\n",
    "import pandas as pd\n",
    "import numpy as np\n",
    "import matplotlib.pyplot as plt\n",
    "import datetime as dt\n",
    "import seaborn as sns\n",
    "%matplotlib inline"
   ]
  },
  {
   "cell_type": "markdown",
   "metadata": {},
   "source": [
    "# Data Acquisition\n",
    "\n",
    "[[go back to the top]](#TABLE-OF-CONTENTS)"
   ]
  },
  {
   "cell_type": "markdown",
   "metadata": {},
   "source": [
    "## Load Current Loan Data\n",
    "\n",
    "Lending Club constantly updates its newly issued loans, which are accessed via Lending Club's API services. The data are loaded into Pandas DataFrame using Python's \"requests\" function. The current loan data are then saved into json format and read into Pandas DataFrame. "
   ]
  },
  {
   "cell_type": "code",
   "execution_count": 5,
   "metadata": {
    "collapsed": true
   },
   "outputs": [],
   "source": [
    "api_key = open('apikey.txt', 'r').read()\n",
    "headers = {\"Authorization\": api_key}\n",
    "url = 'https://api.lendingclub.com/api/investor/v1/loans/listing'"
   ]
  },
  {
   "cell_type": "code",
   "execution_count": 6,
   "metadata": {
    "collapsed": true
   },
   "outputs": [],
   "source": [
    "r = requests.get(url, headers = headers)"
   ]
  },
  {
   "cell_type": "code",
   "execution_count": 9,
   "metadata": {
    "collapsed": false
   },
   "outputs": [],
   "source": [
    "data = r.json()"
   ]
  },
  {
   "cell_type": "code",
   "execution_count": 10,
   "metadata": {
    "collapsed": false
   },
   "outputs": [],
   "source": [
    "myData = data['loans']"
   ]
  },
  {
   "cell_type": "code",
   "execution_count": 11,
   "metadata": {
    "collapsed": false
   },
   "outputs": [],
   "source": [
    "with open('current_list.txt', 'w') as outfile:\n",
    "    json.dump(myData, outfile)"
   ]
  },
  {
   "cell_type": "code",
   "execution_count": 12,
   "metadata": {
    "collapsed": false
   },
   "outputs": [],
   "source": [
    "df_current = pd.read_json('current_list.txt')"
   ]
  },
  {
   "cell_type": "markdown",
   "metadata": {},
   "source": [
    "## Load 2014 Loan Data\n",
    "\n",
    "Lending Club offers open access to its historical loan data from 2007. In this project the loan data from year 2014 were loaded into Pandas DataFrame to be used as the training set. "
   ]
  },
  {
   "cell_type": "code",
   "execution_count": null,
   "metadata": {
    "collapsed": true
   },
   "outputs": [],
   "source": [
    "df_2014 = pd.read_csv('LoanStats3c_securev1.csv', skiprows = 1, skipfooter=2)"
   ]
  },
  {
   "cell_type": "markdown",
   "metadata": {},
   "source": [
    "# Exploratory Analysis\n",
    "\n",
    "[[go back to the top]](#TABLE-OF-CONTENTS)\n",
    "\n",
    "Exploratory Analysis consist of parts:\n",
    "* [Feature Exploration](#Feature-Exploration)\n",
    "* [Data Exploration](#Data-Exploration)\n",
    "* [Exploratory Visualization](#Exploratory-Visualization)\n",
    "\n",
    "The target feature of the predictive model is labeled as \"loan status\", which refers to the stutus of loans as of today. A histogram is plotted to visualize the counts of different statuses. There are totally 7 different loan statuses, among which \"Fully Paid\" and \"Charged Off\" refer to those loans whose statuses are already determined, while all other statuses may still change over time. In this project only the loans with statuses of \"Fully Paid\" and \"Charged Off\" are considered. They are labeled as \"0\" (no default) and \"1\" (default), respectively. "
   ]
  },
  {
   "cell_type": "code",
   "execution_count": 21,
   "metadata": {
    "collapsed": false
   },
   "outputs": [
    {
     "data": {
      "text/plain": [
       "(array([0, 1, 2, 3, 4, 5, 6]), <a list of 7 Text xticklabel objects>)"
      ]
     },
     "execution_count": 21,
     "metadata": {},
     "output_type": "execute_result"
    },
    {
     "data": {
      "image/png": "[encoded data removed]",
      "text/plain": [
       "<matplotlib.figure.Figure at 0x265a0094dd8>"
      ]
     },
     "metadata": {},
     "output_type": "display_data"
    }
   ],
   "source": [
    "g = df_2014.loan_status.value_counts().plot('bar', rot = 90)\n",
    "g.set_xlabel('Loan Status')\n",
    "g.set_ylabel('Count')\n",
    "plt.xticks(rotation = 30)"
   ]
  },
  {
   "cell_type": "markdown",
   "metadata": {},
   "source": [
    "From the above histogram, it is seen that the ratio between \"Fully Paid\" and \"Charged Off\" loans are about 4:1. Discarding all other loan statuses, the overall default rate for the 2014 loans is about 0.2. Over time, this ratio may change slightly but this does not influence the training results much.\n",
    "\n",
    "The term of the loans has only two values, 36 months or 60 months, in the ratio of about 2:1. As of the date of this project, most of the 36 months loans should be closed but most 60 months loans are still open. So this model will have a better prediction performance on the 36 months loans than the 60 months loans. "
   ]
  },
  {
   "cell_type": "code",
   "execution_count": 27,
   "metadata": {
    "collapsed": false
   },
   "outputs": [
    {
     "data": {
      "text/plain": [
       "<matplotlib.text.Text at 0x265a00df550>"
      ]
     },
     "execution_count": 27,
     "metadata": {},
     "output_type": "execute_result"
    },
    {
     "data": {
      "image/png": "[encoded data removed]",
      "text/plain": [
       "<matplotlib.figure.Figure at 0x265a00da048>"
      ]
     },
     "metadata": {},
     "output_type": "display_data"
    }
   ],
   "source": [
    "g = df_2014.term.value_counts().plot('bar', rot = 0)\n",
    "g.set_xlabel('Term')\n",
    "g.set_ylabel('Count')"
   ]
  },
  {
   "cell_type": "markdown",
   "metadata": {},
   "source": [
    "## Feature Exploration"
   ]
  },
  {
   "cell_type": "code",
   "execution_count": 38,
   "metadata": {
    "collapsed": false
   },
   "outputs": [
    {
     "data": {
      "text/plain": [
       "((235629, 143), (16, 103))"
      ]
     },
     "execution_count": 38,
     "metadata": {},
     "output_type": "execute_result"
    }
   ],
   "source": [
    "df_2014.shape, df_current.shape"
   ]
  },
  {
   "cell_type": "markdown",
   "metadata": {},
   "source": [
    "Comparing the features between the historic and the current data, there are several distinct differences: First, the number of features in the 2014 data is more than the current data. Second, the feature names are labeled differently: the historic feature names are separated by underscore \"\\_\", while the current feature names have upper case letters. To uniform the feature names, the underscores are deleted in the historic data, and the letters are all converted to lower cases in the current data. In some cases, different feature names may refer to the same variable, so those feature names are uniformed also. "
   ]
  },
  {
   "cell_type": "code",
   "execution_count": 41,
   "metadata": {
    "collapsed": false
   },
   "outputs": [],
   "source": [
    "cols = []\n",
    "for col in df_2014.columns:\n",
    "    cols.append(col.replace(\"_\", \"\"))"
   ]
  },
  {
   "cell_type": "code",
   "execution_count": 42,
   "metadata": {
    "collapsed": true
   },
   "outputs": [],
   "source": [
    "df_2014.columns = cols"
   ]
  },
  {
   "cell_type": "code",
   "execution_count": 43,
   "metadata": {
    "collapsed": false
   },
   "outputs": [],
   "source": [
    "cols = []\n",
    "for col in df_current.columns:\n",
    "    cols.append(col.lower())"
   ]
  },
  {
   "cell_type": "code",
   "execution_count": 44,
   "metadata": {
    "collapsed": true
   },
   "outputs": [],
   "source": [
    "df_current.columns = cols"
   ]
  },
  {
   "cell_type": "code",
   "execution_count": 45,
   "metadata": {
    "collapsed": false
   },
   "outputs": [],
   "source": [
    "# Change some column names in df_2014 to match df_current\n",
    "# Fundedamnt to fundedamount. But this feature is not used since all loans in history data are fully funded. \n",
    "df_2014.rename(columns={'zipcode': 'addrzip', 'verificationstatus': 'isincv', 'verificationstatusjoint': 'isincvjoint',\\\n",
    "                        'loanamnt': 'loanamount', 'numacctsever120pd': 'numacctsever120ppd'}, inplace=True)"
   ]
  },
  {
   "cell_type": "markdown",
   "metadata": {},
   "source": [
    "Having uniformed the feature names, the next task is to find the common features in both historic and current data sets. The common features are extracted using set operations. The historic data frame df_2014 is then reduced to only have the common features plus the loan status (\"loanstatus\") and issued date (\"issued\"). "
   ]
  },
  {
   "cell_type": "code",
   "execution_count": 48,
   "metadata": {
    "collapsed": false
   },
   "outputs": [],
   "source": [
    "#Find common columns\n",
    "com_cols = set(df_2014.columns) & set(df_current.columns)\n",
    "hist_unique = set(df_2014.columns) - set (df_current.columns)\n",
    "cur_unique = set(df_current.columns) - set (df_2014.columns) "
   ]
  },
  {
   "cell_type": "code",
   "execution_count": 49,
   "metadata": {
    "collapsed": false
   },
   "outputs": [],
   "source": [
    "df_2014 = df_2014[list(com_cols) + [\"loanstatus\", \"issued\"]]"
   ]
  },
  {
   "cell_type": "markdown",
   "metadata": {},
   "source": [
    "## Data Exploration\n",
    "\n",
    "The next step is the preliminary data exploration. There are many all-null columns, which are dropped from the training set. The rows with loan statuses other than \"Charged Off\" or \"Fully Paid\" are also dropped from the training set. The resulted data frame has three different data types: \"object\", \"int64\", and \"float64\". All the \"object\" features are saved into a list of categorical variables \"cat_vars', and all the numeric features are saved into \"num_vars\". \n",
    "\n",
    "There are 18 resulted categorical features: \n",
    "\n",
    "'addrstate', 'addrzip', 'applicationtype', 'desc', 'earliestcrline',\n",
    "'emplength', 'emptitle', 'grade', 'homeownership', 'initialliststatus',\n",
    "'intrate', 'isincv', 'issued', 'loanstatus', 'purpose', 'revolutil',\n",
    "'subgrade', 'term'    \n",
    "       \n",
    "Each of them will be converted or transformed in the [Feature Engineering](#Feature-Engineering) step to be processed by the model algorithm.  "
   ]
  },
  {
   "cell_type": "code",
   "execution_count": 52,
   "metadata": {
    "collapsed": false
   },
   "outputs": [],
   "source": [
    "null_2014 = df_2014.columns[df_2014.isnull().all()]"
   ]
  },
  {
   "cell_type": "code",
   "execution_count": 53,
   "metadata": {
    "collapsed": false
   },
   "outputs": [],
   "source": [
    "df_2014.drop(null_2014, axis = 1, inplace=True)"
   ]
  },
  {
   "cell_type": "code",
   "execution_count": 54,
   "metadata": {
    "collapsed": false
   },
   "outputs": [],
   "source": [
    "df_2014 = df_2014[df_2014.loanstatus.isin([\"Charged Off\", \"Fully Paid\"])]"
   ]
  },
  {
   "cell_type": "code",
   "execution_count": 55,
   "metadata": {
    "collapsed": false
   },
   "outputs": [],
   "source": [
    "df_2014_raw = df_2014"
   ]
  },
  {
   "cell_type": "code",
   "execution_count": 57,
   "metadata": {
    "collapsed": false
   },
   "outputs": [],
   "source": [
    "data_types = df_2014.dtypes  \n",
    "cat_vars = list(data_types[data_types=='object'].index)\n",
    "num_vars = list(data_types[data_types=='int64'].index) + list(data_types[data_types=='float64'].index)"
   ]
  },
  {
   "cell_type": "code",
   "execution_count": 58,
   "metadata": {
    "collapsed": false
   },
   "outputs": [
    {
     "name": "stdout",
     "output_type": "stream",
     "text": [
      "There are 18 categorical features. We will process them one by one.\n"
     ]
    }
   ],
   "source": [
    "print (\"There are %d categorical features. We will process them one by one.\" %len(cat_vars))"
   ]
  },
  {
   "cell_type": "markdown",
   "metadata": {},
   "source": [
    "## Exploratory Visualization\n",
    "\n",
    "Visualization packages \"Matplotlib\" and \"Seaborn\" were used to plot the distribution of the categorical features. "
   ]
  },
  {
   "cell_type": "code",
   "execution_count": 60,
   "metadata": {
    "collapsed": false
   },
   "outputs": [
    {
     "name": "stdout",
     "output_type": "stream",
     "text": [
      "18 58 (176552, 76)\n"
     ]
    }
   ],
   "source": [
    "print(len(cat_vars), len(num_vars), df_2014.shape)"
   ]
  },
  {
   "cell_type": "code",
   "execution_count": 61,
   "metadata": {
    "collapsed": true
   },
   "outputs": [],
   "source": [
    "cat_vars_plot = ['applicationtype', 'isincv', 'purpose', 'subgrade', 'initialliststatus', 'addrstate', 'grade', 'term',\\\n",
    "                'homeownership', 'emplength']"
   ]
  },
  {
   "cell_type": "code",
   "execution_count": 189,
   "metadata": {
    "collapsed": false
   },
   "outputs": [
    {
     "data": {
      "image/png": "[encoded data removed]",
      "text/plain": [
       "<matplotlib.figure.Figure at 0x265a48b5a20>"
      ]
     },
     "metadata": {},
     "output_type": "display_data"
    },
    {
     "data": {
      "image/png": "[encoded data removed]",
      "text/plain": [
       "<matplotlib.figure.Figure at 0x265a4ff6fd0>"
      ]
     },
     "metadata": {},
     "output_type": "display_data"
    },
    {
     "data": {
      "image/png": "[encoded data removed]",
      "text/plain": [
       "<matplotlib.figure.Figure at 0x265a2800358>"
      ]
     },
     "metadata": {},
     "output_type": "display_data"
    },
    {
     "data": {
      "image/png": "[encoded data removed]",
      "text/plain": [
       "<matplotlib.figure.Figure at 0x265a43047f0>"
      ]
     },
     "metadata": {},
     "output_type": "display_data"
    },
    {
     "data": {
      "image/png": "[encoded data removed]",
      "text/plain": [
       "<matplotlib.figure.Figure at 0x265a14df198>"
      ]
     },
     "metadata": {},
     "output_type": "display_data"
    }
   ],
   "source": [
    "n_cols = 2\n",
    "n_rows = 5\n",
    "for i in range(n_rows):\n",
    "    fg,ax = plt.subplots(nrows=1,ncols=n_cols,figsize=(10, 3))\n",
    "    for j in range(n_cols):\n",
    "        g = sns.countplot(x=cat_vars_plot[i*n_cols+j], data=df_2014, ax=ax[j])\n",
    "        g.set_xticklabels(labels=g.get_xticklabels(), rotation = 0)"
   ]
  },
  {
   "cell_type": "markdown",
   "metadata": {},
   "source": [
    "# Feature Engineering\n",
    "\n",
    "[[go back to the top]](#TABLE-OF-CONTENTS)\n",
    "\n",
    "Feature engineering is conducted mainly on the categorical features. The purpose of feature engineering is either to convert categorical variables to numerical variables or extract new features that may potentially enhance model performance. There are 5 different types of categorical features, each is treated with different strategies. The table below lists each type of categorical features and their corresponding solutions.\n",
    "\n",
    "|           Type          |        Name       |        Definition       |               Solution              |\n",
    "|:-----------------------:|:-----------------:|:-----------------------:|:-----------------------------------:|\n",
    "| Intrinsically numerical |      intrate      |      Interest rate      |         Convert to numerical        |\n",
    "|                         |     revolutil     | Credit line utilization |                 ..                  |\n",
    "|                         |        term       |   Term of loan (36/60)  |                 ..                  |\n",
    "|        Date-time        |   earliestcrline  |  Date first credit line | Extract new feature: credit history |\n",
    "|     High cardinality    |      emptitle     |     Employment title    |     NLP and extract new features    |\n",
    "|                         |        desc       |      User comments      |                 ..                  |\n",
    "|                         |      addrzip      |         Zipcode         |      Encoding by frequency rate     |\n",
    "|                         |     addrstate     |          State          |                 ..                  |\n",
    "|         Ordinal         |       grade       |     Loan risk grade     |            Label encoding           |\n",
    "|                         |      subgrade     |    Loan risk subgrade   |                 ..                  |\n",
    "|                         |     emplength     |     Months employed     |                 ..                  |\n",
    "|          Other          |  applicationtype  |     Application type    |   Only one type. Drop the feature.  |\n",
    "|                         |   homeownership   |      Home ownership     |        One-hot encoding (OHE)       |\n",
    "|                         | initialliststatus |   Initial list status   |                 ..                  |\n",
    "|                         |      purpose      |     Purpose of loan     |                 ..                  |\n",
    "|                         |       Isincv      |   Is income verified?   |                 ..                  |"
   ]
  },
  {
   "cell_type": "markdown",
   "metadata": {},
   "source": [
    "## Categorical Feature Treatment\n",
    "\n",
    "Categorical features are treated one-by-one based on the nature of each feature. After the treatment of each categorical feature, that feature name is removed from the categorical variables and a new feature is added into the numerical variables."
   ]
  },
  {
   "cell_type": "markdown",
   "metadata": {},
   "source": [
    "### Feature 1. \"addrstate\" - convert to frequency\n",
    "\n",
    "The address state has over 48 unique values. It is hard to use dummy encoding for all of them. However, the frequency of each state may be associated with the default rate. So frequency encoding is performed on the address state feature. "
   ]
  },
  {
   "cell_type": "code",
   "execution_count": 63,
   "metadata": {
    "collapsed": false
   },
   "outputs": [],
   "source": [
    "addrstate_freq = pd.DataFrame({'addrstate': df_2014.addrstate.value_counts(normalize = True).index, \\\n",
    "                               'state_freq': df_2014.addrstate.value_counts(normalize = True).values})"
   ]
  },
  {
   "cell_type": "code",
   "execution_count": 64,
   "metadata": {
    "collapsed": false,
    "scrolled": false
   },
   "outputs": [],
   "source": [
    "df_2014 = pd.merge(df_2014, addrstate_freq, how = 'left', on = 'addrstate')"
   ]
  },
  {
   "cell_type": "code",
   "execution_count": 65,
   "metadata": {
    "collapsed": false
   },
   "outputs": [],
   "source": [
    "cat_vars.remove('addrstate')\n",
    "num_vars.append('state_freq')"
   ]
  },
  {
   "cell_type": "code",
   "execution_count": 66,
   "metadata": {
    "collapsed": false
   },
   "outputs": [
    {
     "name": "stdout",
     "output_type": "stream",
     "text": [
      "17 59 (176552, 77)\n"
     ]
    }
   ],
   "source": [
    "print(len(cat_vars), len(num_vars), df_2014.shape)"
   ]
  },
  {
   "cell_type": "markdown",
   "metadata": {},
   "source": [
    "### Feature 2. 'addrzip'  - convert to numeric zip and frequency. \n",
    "\n",
    "In the raw data, the address zipcode is expressed in the format of \"123XX\", where the last two digits of the zipcode are masked. In this process, the first three digits of address zipcodes are extracted as numerical features by stripping \"XX\" from the entries. Then another feature \"zip_freq\" based on the frequency of zipcodes is also created. "
   ]
  },
  {
   "cell_type": "code",
   "execution_count": 67,
   "metadata": {
    "collapsed": true
   },
   "outputs": [],
   "source": [
    "df_2014.addrzip = df_2014.addrzip.apply(lambda x: int(x.strip('xx')))\n",
    "\n",
    "addrzip_freq = pd.DataFrame({'addrzip': df_2014.addrzip.value_counts(normalize = True).index, \\\n",
    "                             'zip_freq': df_2014.addrzip.value_counts(normalize = True).values})"
   ]
  },
  {
   "cell_type": "code",
   "execution_count": 68,
   "metadata": {
    "collapsed": true
   },
   "outputs": [],
   "source": [
    "df_2014 = pd.merge(df_2014, addrzip_freq, how = 'left', on = 'addrzip')"
   ]
  },
  {
   "cell_type": "code",
   "execution_count": 69,
   "metadata": {
    "collapsed": false
   },
   "outputs": [],
   "source": [
    "cat_vars.remove('addrzip')\n",
    "num_vars.append('addrzip')\n",
    "num_vars.append('zip_freq')"
   ]
  },
  {
   "cell_type": "code",
   "execution_count": 70,
   "metadata": {
    "collapsed": false
   },
   "outputs": [
    {
     "name": "stdout",
     "output_type": "stream",
     "text": [
      "16 61 (176552, 78)\n"
     ]
    }
   ],
   "source": [
    "print(len(cat_vars), len(num_vars), df_2014.shape)"
   ]
  },
  {
   "cell_type": "markdown",
   "metadata": {},
   "source": [
    "### Feature 3. 'applicationtype'  -remove from cat_vars"
   ]
  },
  {
   "cell_type": "markdown",
   "metadata": {},
   "source": [
    "From the plot of this feature it is found that the only value of \"application type\" is \"Individual\". So this feature is dropped from the model. "
   ]
  },
  {
   "cell_type": "code",
   "execution_count": 71,
   "metadata": {
    "collapsed": false
   },
   "outputs": [],
   "source": [
    "# Only one value in this feature. Remove. \n",
    "cat_vars.remove('applicationtype')"
   ]
  },
  {
   "cell_type": "code",
   "execution_count": 72,
   "metadata": {
    "collapsed": false
   },
   "outputs": [
    {
     "name": "stdout",
     "output_type": "stream",
     "text": [
      "15 61 (176552, 78)\n"
     ]
    }
   ],
   "source": [
    "print(len(cat_vars), len(num_vars), df_2014.shape)"
   ]
  },
  {
   "cell_type": "markdown",
   "metadata": {},
   "source": [
    "### Feature 4. 'desc' - combine levels.   (nan - 0, short - 1, long - 2)"
   ]
  },
  {
   "cell_type": "markdown",
   "metadata": {},
   "source": [
    "This is the description that users input when applying for loans. There is only a small portion of this feature that are non-empty. The entries for description are all different. A new feature \"desc_islong\" is thus extracted from this column, by treating the null values as 0, those with short descriptions as 1, and those with long descriptions as 2. Natural Language Processing is used in this case to differentiate the length of decriptions. "
   ]
  },
  {
   "cell_type": "code",
   "execution_count": 73,
   "metadata": {
    "collapsed": false
   },
   "outputs": [],
   "source": [
    "df_2014.desc = df_2014.desc[df_2014.desc.notnull()].apply(lambda x: x.split('>')[1][:-3] if x.find('>') != -1 else x)"
   ]
  },
  {
   "cell_type": "code",
   "execution_count": 74,
   "metadata": {
    "collapsed": false
   },
   "outputs": [],
   "source": [
    "desc_length = df_2014.desc[df_2014.desc.notnull()].apply(lambda x: len(x))"
   ]
  },
  {
   "cell_type": "code",
   "execution_count": 75,
   "metadata": {
    "collapsed": false
   },
   "outputs": [],
   "source": [
    "median = desc_length.median()"
   ]
  },
  {
   "cell_type": "code",
   "execution_count": 76,
   "metadata": {
    "collapsed": false
   },
   "outputs": [],
   "source": [
    "desc_islong = pd.DataFrame(desc_length.apply(lambda x: 1 if x < median else 2))"
   ]
  },
  {
   "cell_type": "code",
   "execution_count": 77,
   "metadata": {
    "collapsed": false
   },
   "outputs": [],
   "source": [
    "desc_islong.columns = ['desc_islong']"
   ]
  },
  {
   "cell_type": "code",
   "execution_count": 78,
   "metadata": {
    "collapsed": false
   },
   "outputs": [],
   "source": [
    "df_2014 = pd.merge(df_2014, desc_islong, how = 'left', left_index=True, right_index=True)"
   ]
  },
  {
   "cell_type": "code",
   "execution_count": 79,
   "metadata": {
    "collapsed": false
   },
   "outputs": [],
   "source": [
    "df_2014.desc_islong = df_2014.desc_islong.fillna(0).astype('int')"
   ]
  },
  {
   "cell_type": "code",
   "execution_count": 80,
   "metadata": {
    "collapsed": false
   },
   "outputs": [],
   "source": [
    "cat_vars.remove('desc')\n",
    "num_vars.append('desc_islong')"
   ]
  },
  {
   "cell_type": "code",
   "execution_count": 81,
   "metadata": {
    "collapsed": false
   },
   "outputs": [
    {
     "name": "stdout",
     "output_type": "stream",
     "text": [
      "14 62 (176552, 79)\n"
     ]
    }
   ],
   "source": [
    "print(len(cat_vars), len(num_vars), df_2014.shape)"
   ]
  },
  {
   "cell_type": "markdown",
   "metadata": {},
   "source": [
    "### Feature 5. 'earliestcrline' - create new feature as credit history length in days.\n",
    "\n",
    "\"Earliestcrline\" refers to the date the first credit line of the user was opened, which marks the credit history of the user. It is thus more meaningful to create a new feature as \"credit history\" for the model. The data were first converted to the datetime format, then the time delta in days is calculated from 2017/01/01. "
   ]
  },
  {
   "cell_type": "code",
   "execution_count": 82,
   "metadata": {
    "collapsed": true
   },
   "outputs": [],
   "source": [
    "earliest_crl = df_2014['earliestcrline'].apply(lambda x: dt.datetime.strptime(str(x), '%b-%Y'))"
   ]
  },
  {
   "cell_type": "code",
   "execution_count": 83,
   "metadata": {
    "collapsed": false
   },
   "outputs": [],
   "source": [
    "# Credit history in days. \n",
    "df_2014['credit_hist'] = earliest_crl.apply (lambda x: (dt.date(2017, 1, 1) - x.date()).days)"
   ]
  },
  {
   "cell_type": "code",
   "execution_count": 84,
   "metadata": {
    "collapsed": false
   },
   "outputs": [],
   "source": [
    "cat_vars.remove('earliestcrline')\n",
    "num_vars.append('credit_hist')"
   ]
  },
  {
   "cell_type": "code",
   "execution_count": 85,
   "metadata": {
    "collapsed": false
   },
   "outputs": [
    {
     "name": "stdout",
     "output_type": "stream",
     "text": [
      "13 63 (176552, 80)\n"
     ]
    }
   ],
   "source": [
    "print(len(cat_vars), len(num_vars), df_2014.shape)"
   ]
  },
  {
   "cell_type": "markdown",
   "metadata": {},
   "source": [
    "### Feature 6. 'emplength' - convert to months\n",
    "\n",
    "This feature is the length of employment. It contains ordinal levels of values from < 1 year to $\\geqslant$10 years. The value of each level is extracted via Natural Language Processing and converted to months. Less than 1 year is labeled 0. For the n/a entries, it is likely that the user was unemployed, so any n/a values are replaced with a penalty term of \"-999\". "
   ]
  },
  {
   "cell_type": "code",
   "execution_count": 86,
   "metadata": {
    "collapsed": false
   },
   "outputs": [
    {
     "data": {
      "text/plain": [
       "array(['8 years', '10+ years', '6 years', '< 1 year', '2 years', '9 years',\n",
       "       '7 years', '1 year', 'n/a', '3 years', '4 years', '5 years'], dtype=object)"
      ]
     },
     "execution_count": 86,
     "metadata": {},
     "output_type": "execute_result"
    }
   ],
   "source": [
    "df_2014.emplength.unique()"
   ]
  },
  {
   "cell_type": "code",
   "execution_count": 87,
   "metadata": {
    "collapsed": true
   },
   "outputs": [],
   "source": [
    "df_2014.emplength.replace('n/a', np.nan, inplace = True)\n",
    "df_2014.emplength.replace('< 1 year', '0', inplace = True)\n",
    "df_2014.emplength.replace(to_replace='[^0-9]+', value = '', inplace= True, regex= True)"
   ]
  },
  {
   "cell_type": "code",
   "execution_count": 88,
   "metadata": {
    "collapsed": false
   },
   "outputs": [],
   "source": [
    "df_2014.emplength = df_2014.emplength[df_2014.emplength.notnull()].astype(int).apply(lambda x: x * 12)"
   ]
  },
  {
   "cell_type": "code",
   "execution_count": 89,
   "metadata": {
    "collapsed": false
   },
   "outputs": [],
   "source": [
    "df_2014.emplength.fillna(-999, inplace = True)"
   ]
  },
  {
   "cell_type": "code",
   "execution_count": 90,
   "metadata": {
    "collapsed": false
   },
   "outputs": [],
   "source": [
    "cat_vars.remove('emplength')\n",
    "num_vars.append('emplength')"
   ]
  },
  {
   "cell_type": "code",
   "execution_count": 91,
   "metadata": {
    "collapsed": false
   },
   "outputs": [
    {
     "name": "stdout",
     "output_type": "stream",
     "text": [
      "12 64 (176552, 80)\n"
     ]
    }
   ],
   "source": [
    "print(len(cat_vars), len(num_vars), df_2014.shape)"
   ]
  },
  {
   "cell_type": "markdown",
   "metadata": {},
   "source": [
    "### Feature 7. 'emptitle' - convert to managerial (2) or non-managerial (1) or unemployed (0). \n",
    "\n",
    "The title of employment also vary significantly so it is impossible to use dummy encoding for this feature. It can be assumed that a person with a managerial title may have better credit. As a result, the entries in this column are analyzed to find words such as \"manager\", \"president\", and so on. Those with a managerial title are labeled 1, and those without are labeled 0. The users with an n/a entry in this column are likely unemployed, so a penalty term of \"-999\" is also used in place of \"n/a\"."
   ]
  },
  {
   "cell_type": "code",
   "execution_count": 92,
   "metadata": {
    "collapsed": false
   },
   "outputs": [],
   "source": [
    "df_2014.emptitle = df_2014.emptitle.astype('str').apply(lambda x: x.lower())"
   ]
  },
  {
   "cell_type": "code",
   "execution_count": 93,
   "metadata": {
    "collapsed": false
   },
   "outputs": [],
   "source": [
    "df_2014.replace('nan', np.nan, inplace = True)"
   ]
  },
  {
   "cell_type": "code",
   "execution_count": 94,
   "metadata": {
    "collapsed": false
   },
   "outputs": [],
   "source": [
    "df_2014['emptype'] = np.nan"
   ]
  },
  {
   "cell_type": "code",
   "execution_count": 95,
   "metadata": {
    "collapsed": false
   },
   "outputs": [],
   "source": [
    "ismanager = df_2014.emptitle.str.contains('manager|president|officer|supervisor|director|excutive')"
   ]
  },
  {
   "cell_type": "code",
   "execution_count": 96,
   "metadata": {
    "collapsed": false
   },
   "outputs": [],
   "source": [
    "isnonmanager = (ismanager == False)"
   ]
  },
  {
   "cell_type": "code",
   "execution_count": 97,
   "metadata": {
    "collapsed": false
   },
   "outputs": [],
   "source": [
    "ismanager.fillna(False, inplace= True)"
   ]
  },
  {
   "cell_type": "code",
   "execution_count": 150,
   "metadata": {
    "collapsed": true
   },
   "outputs": [
    {
     "name": "stderr",
     "output_type": "stream",
     "text": [
      "C:\\python\\Anaconda3\\lib\\site-packages\\ipykernel_launcher.py:1: SettingWithCopyWarning: \n",
      "A value is trying to be set on a copy of a slice from a DataFrame\n",
      "\n",
      "See the caveats in the documentation: http://pandas.pydata.org/pandas-docs/stable/indexing.html#indexing-view-versus-copy\n",
      "  \"\"\"Entry point for launching an IPython kernel.\n",
      "C:\\python\\Anaconda3\\lib\\site-packages\\ipykernel_launcher.py:2: SettingWithCopyWarning: \n",
      "A value is trying to be set on a copy of a slice from a DataFrame\n",
      "\n",
      "See the caveats in the documentation: http://pandas.pydata.org/pandas-docs/stable/indexing.html#indexing-view-versus-copy\n",
      "  \n"
     ]
    }
   ],
   "source": [
    "df_2014.emptype[ismanager] = 1\n",
    "df_2014.emptype[isnonmanager] = 0"
   ]
  },
  {
   "cell_type": "code",
   "execution_count": 99,
   "metadata": {
    "collapsed": false
   },
   "outputs": [],
   "source": [
    "df_2014.emptype.fillna(-999, inplace= True)"
   ]
  },
  {
   "cell_type": "code",
   "execution_count": 100,
   "metadata": {
    "collapsed": false
   },
   "outputs": [],
   "source": [
    "cat_vars.remove('emptitle')\n",
    "num_vars.append('emptype')"
   ]
  },
  {
   "cell_type": "code",
   "execution_count": 101,
   "metadata": {
    "collapsed": false
   },
   "outputs": [
    {
     "name": "stdout",
     "output_type": "stream",
     "text": [
      "11 65 (176552, 81)\n"
     ]
    }
   ],
   "source": [
    "print(len(cat_vars), len(num_vars), df_2014.shape)"
   ]
  },
  {
   "cell_type": "markdown",
   "metadata": {},
   "source": [
    "### Feature 8. 'grade' - label encoding A-G -> 1-7\n",
    "\n",
    "The \"grade\" feature is pre-categorized by Lending Club based on the risk levels of loans. It is simply label-coded here from A-G to 1-7."
   ]
  },
  {
   "cell_type": "code",
   "execution_count": 102,
   "metadata": {
    "collapsed": false
   },
   "outputs": [],
   "source": [
    "df_2014.grade = df_2014.grade.map({'A': 1, 'B': 2, 'C': 3, 'D': 4, 'E': 5, 'F': 6, 'G': 7})"
   ]
  },
  {
   "cell_type": "code",
   "execution_count": 103,
   "metadata": {
    "collapsed": false
   },
   "outputs": [],
   "source": [
    "cat_vars.remove('grade')\n",
    "num_vars.append('grade')"
   ]
  },
  {
   "cell_type": "code",
   "execution_count": 104,
   "metadata": {
    "collapsed": false
   },
   "outputs": [
    {
     "name": "stdout",
     "output_type": "stream",
     "text": [
      "10 66 (176552, 81)\n"
     ]
    }
   ],
   "source": [
    "print(len(cat_vars), len(num_vars), df_2014.shape)"
   ]
  },
  {
   "cell_type": "markdown",
   "metadata": {},
   "source": [
    "### Feature 9. 'homeownership' - leave for one-hot encoding. \n",
    "\n",
    "The home ownership feature has only three values: mortgage, rent, or own. One-hot Encoding is performed on this feature. "
   ]
  },
  {
   "cell_type": "code",
   "execution_count": 106,
   "metadata": {
    "collapsed": false
   },
   "outputs": [],
   "source": [
    "df_2014.homeownership.replace('ANY', np.nan, inplace= True)"
   ]
  },
  {
   "cell_type": "code",
   "execution_count": 107,
   "metadata": {
    "collapsed": false
   },
   "outputs": [],
   "source": [
    "homeownership_OHE = pd.get_dummies(df_2014['homeownership'])"
   ]
  },
  {
   "cell_type": "code",
   "execution_count": 108,
   "metadata": {
    "collapsed": true
   },
   "outputs": [],
   "source": [
    "homeownership_OHE.columns = ['home_mort', 'home_own', 'home_rent']"
   ]
  },
  {
   "cell_type": "code",
   "execution_count": 109,
   "metadata": {
    "collapsed": false
   },
   "outputs": [],
   "source": [
    "df_2014 = pd.merge(df_2014, homeownership_OHE, how= 'left', left_index = True, right_index= True)"
   ]
  },
  {
   "cell_type": "code",
   "execution_count": 110,
   "metadata": {
    "collapsed": false
   },
   "outputs": [],
   "source": [
    "OHE_vars = []\n",
    "OHE_vars = OHE_vars + list(homeownership_OHE.columns)"
   ]
  },
  {
   "cell_type": "code",
   "execution_count": 111,
   "metadata": {
    "collapsed": false
   },
   "outputs": [],
   "source": [
    "cat_vars.remove('homeownership')"
   ]
  },
  {
   "cell_type": "code",
   "execution_count": 112,
   "metadata": {
    "collapsed": false
   },
   "outputs": [
    {
     "name": "stdout",
     "output_type": "stream",
     "text": [
      "9 66 3 (176552, 84)\n"
     ]
    }
   ],
   "source": [
    "print(len(cat_vars), len(num_vars), len(OHE_vars), df_2014.shape)"
   ]
  },
  {
   "cell_type": "markdown",
   "metadata": {},
   "source": [
    "### Feature 10. 'initialliststatus' - map: W: 0, F: 1. \n",
    "\n",
    "Only two values are in this feature: 0 or 1 for W or F. "
   ]
  },
  {
   "cell_type": "code",
   "execution_count": 113,
   "metadata": {
    "collapsed": false
   },
   "outputs": [],
   "source": [
    "# Upper case to match the current loans data. \n",
    "df_2014.initialliststatus = df_2014.initialliststatus.apply(lambda x: x.upper()) "
   ]
  },
  {
   "cell_type": "code",
   "execution_count": 114,
   "metadata": {
    "collapsed": false
   },
   "outputs": [],
   "source": [
    "df_2014.initialliststatus = df_2014.initialliststatus.map({'W': 0, 'F': 1})"
   ]
  },
  {
   "cell_type": "code",
   "execution_count": 115,
   "metadata": {
    "collapsed": false
   },
   "outputs": [],
   "source": [
    "cat_vars.remove('initialliststatus')\n",
    "num_vars.append('initialliststatus')"
   ]
  },
  {
   "cell_type": "code",
   "execution_count": 116,
   "metadata": {
    "collapsed": false
   },
   "outputs": [
    {
     "name": "stdout",
     "output_type": "stream",
     "text": [
      "8 67 3 (176552, 84)\n"
     ]
    }
   ],
   "source": [
    "print(len(cat_vars), len(num_vars), len(OHE_vars), df_2014.shape)"
   ]
  },
  {
   "cell_type": "markdown",
   "metadata": {},
   "source": [
    "### Feature 11. 'intrate' - change to float\n",
    "\n",
    "The feature of interest rate is intrinscally numerical. It is converted to a float number by removing the \"%\" sign. "
   ]
  },
  {
   "cell_type": "code",
   "execution_count": 117,
   "metadata": {
    "collapsed": true
   },
   "outputs": [],
   "source": [
    "df_2014['intrate'] = df_2014.intrate.astype('str').transform(lambda x: float(x.strip('%'))/100)"
   ]
  },
  {
   "cell_type": "code",
   "execution_count": 118,
   "metadata": {
    "collapsed": false
   },
   "outputs": [],
   "source": [
    "cat_vars.remove('intrate')\n",
    "num_vars.append('intrate')"
   ]
  },
  {
   "cell_type": "code",
   "execution_count": 119,
   "metadata": {
    "collapsed": false
   },
   "outputs": [
    {
     "name": "stdout",
     "output_type": "stream",
     "text": [
      "7 68 3 (176552, 84)\n"
     ]
    }
   ],
   "source": [
    "print(len(cat_vars), len(num_vars), len(OHE_vars), df_2014.shape)"
   ]
  },
  {
   "cell_type": "markdown",
   "metadata": {},
   "source": [
    "### Feature 12. 'isincv' - one hot encoding. \n",
    "\n",
    "Only three different values are in this feature. It is noted that the historical entries may be in lower or upper cases but the entries in the current data have only upper cases. So they are uniformed to upper cases and One-hot Encoded. "
   ]
  },
  {
   "cell_type": "code",
   "execution_count": 121,
   "metadata": {
    "collapsed": true
   },
   "outputs": [],
   "source": [
    "df_2014.isincv.replace(['Not Verified', 'Source Verified', 'Verified'], ['NOT_VERIFIED', 'SOURCE_VERIFIED', 'VERIFIED'],\\\n",
    "                          inplace= True)"
   ]
  },
  {
   "cell_type": "code",
   "execution_count": 122,
   "metadata": {
    "collapsed": true
   },
   "outputs": [],
   "source": [
    "isincv_OHE = pd.get_dummies(df_2014['isincv'])"
   ]
  },
  {
   "cell_type": "code",
   "execution_count": 123,
   "metadata": {
    "collapsed": false
   },
   "outputs": [],
   "source": [
    "isincv_OHE.columns = ['isincv_nv', 'isinicv_sv', 'isincv_v']"
   ]
  },
  {
   "cell_type": "code",
   "execution_count": 124,
   "metadata": {
    "collapsed": false
   },
   "outputs": [],
   "source": [
    "df_2014 = pd.merge(df_2014, isincv_OHE, how='left', left_index = True, right_index= True)"
   ]
  },
  {
   "cell_type": "code",
   "execution_count": 125,
   "metadata": {
    "collapsed": false
   },
   "outputs": [],
   "source": [
    "OHE_vars = OHE_vars + list(isincv_OHE.columns)"
   ]
  },
  {
   "cell_type": "code",
   "execution_count": 126,
   "metadata": {
    "collapsed": false
   },
   "outputs": [],
   "source": [
    "cat_vars.remove('isincv')"
   ]
  },
  {
   "cell_type": "code",
   "execution_count": 127,
   "metadata": {
    "collapsed": false
   },
   "outputs": [
    {
     "name": "stdout",
     "output_type": "stream",
     "text": [
      "6 68 6 (176552, 87)\n"
     ]
    }
   ],
   "source": [
    "print(len(cat_vars), len(num_vars), len(OHE_vars), df_2014.shape)"
   ]
  },
  {
   "cell_type": "markdown",
   "metadata": {},
   "source": [
    "### Feature 13. 'purpose' - one-hot encoding. \n",
    "\n",
    "This feature describes the purpose of loan application. It is One-hot Encoded. "
   ]
  },
  {
   "cell_type": "code",
   "execution_count": 130,
   "metadata": {
    "collapsed": true
   },
   "outputs": [],
   "source": [
    "purpose_OHE = pd.get_dummies(df_2014.purpose)"
   ]
  },
  {
   "cell_type": "code",
   "execution_count": 131,
   "metadata": {
    "collapsed": false
   },
   "outputs": [],
   "source": [
    "purpose_OHE.columns = ['pur_' + var for var in purpose_OHE.columns.values]"
   ]
  },
  {
   "cell_type": "code",
   "execution_count": 132,
   "metadata": {
    "collapsed": false
   },
   "outputs": [],
   "source": [
    "df_2014 = pd.merge (df_2014, purpose_OHE, how= 'left', left_index= True, right_index= True)"
   ]
  },
  {
   "cell_type": "code",
   "execution_count": 133,
   "metadata": {
    "collapsed": false
   },
   "outputs": [],
   "source": [
    "OHE_vars =  OHE_vars + list(purpose_OHE.columns)"
   ]
  },
  {
   "cell_type": "code",
   "execution_count": 134,
   "metadata": {
    "collapsed": true
   },
   "outputs": [],
   "source": [
    "cat_vars.remove('purpose')"
   ]
  },
  {
   "cell_type": "code",
   "execution_count": 135,
   "metadata": {
    "collapsed": false
   },
   "outputs": [
    {
     "name": "stdout",
     "output_type": "stream",
     "text": [
      "5 68 19 (176552, 100)\n"
     ]
    }
   ],
   "source": [
    "print(len(cat_vars), len(num_vars), len(OHE_vars), df_2014.shape)"
   ]
  },
  {
   "cell_type": "markdown",
   "metadata": {},
   "source": [
    "### Feature 14. 'revolutil' - convert to float\n",
    "\n",
    "This feature indicates the utilization rate of users' revolving credit limit. It is intrinsically numeric with removal of the \"%\" sign. "
   ]
  },
  {
   "cell_type": "code",
   "execution_count": 136,
   "metadata": {
    "collapsed": false
   },
   "outputs": [],
   "source": [
    "df_2014.revolutil = df_2014.revolutil.astype('str').transform(lambda x: float(x.strip('%'))/100)"
   ]
  },
  {
   "cell_type": "code",
   "execution_count": 137,
   "metadata": {
    "collapsed": false
   },
   "outputs": [],
   "source": [
    "cat_vars.remove('revolutil')\n",
    "num_vars.append('revolutil')"
   ]
  },
  {
   "cell_type": "code",
   "execution_count": 138,
   "metadata": {
    "collapsed": false
   },
   "outputs": [
    {
     "name": "stdout",
     "output_type": "stream",
     "text": [
      "4 69 19 (176552, 100)\n"
     ]
    }
   ],
   "source": [
    "print(len(cat_vars), len(num_vars), len(OHE_vars), df_2014.shape)"
   ]
  },
  {
   "cell_type": "markdown",
   "metadata": {},
   "source": [
    "### Feature 15. 'subgrade' - label encoding\n",
    "\n",
    "Similar to the grade feature, this feature is ordinal and coded by label-coding. "
   ]
  },
  {
   "cell_type": "code",
   "execution_count": 139,
   "metadata": {
    "collapsed": false
   },
   "outputs": [],
   "source": [
    "subgrd = df_2014.subgrade.sort_values().unique()"
   ]
  },
  {
   "cell_type": "code",
   "execution_count": 140,
   "metadata": {
    "collapsed": false
   },
   "outputs": [],
   "source": [
    "df_2014.subgrade = df_2014.subgrade.map({subgrd[i]: i + 1 for i in range(len(subgrd))})"
   ]
  },
  {
   "cell_type": "code",
   "execution_count": 141,
   "metadata": {
    "collapsed": false
   },
   "outputs": [],
   "source": [
    "cat_vars.remove('subgrade')\n",
    "num_vars.append('subgrade')"
   ]
  },
  {
   "cell_type": "code",
   "execution_count": 142,
   "metadata": {
    "collapsed": false
   },
   "outputs": [
    {
     "name": "stdout",
     "output_type": "stream",
     "text": [
      "3 70 19 (176552, 100)\n"
     ]
    }
   ],
   "source": [
    "print(len(cat_vars), len(num_vars), len(OHE_vars), df_2014.shape)"
   ]
  },
  {
   "cell_type": "markdown",
   "metadata": {},
   "source": [
    "### Feature 16. 'term' - remove 'months'\n",
    "\n",
    "Only two types are in this feature, 36 months or 60 months. They are converted to numbers. "
   ]
  },
  {
   "cell_type": "code",
   "execution_count": 143,
   "metadata": {
    "collapsed": false
   },
   "outputs": [],
   "source": [
    "df_2014.term = df_2014.term.apply(lambda x: ''.join(d for d in x if d.isdigit()))"
   ]
  },
  {
   "cell_type": "code",
   "execution_count": 144,
   "metadata": {
    "collapsed": true
   },
   "outputs": [],
   "source": [
    "df_2014.term = df_2014.term.astype(int)"
   ]
  },
  {
   "cell_type": "code",
   "execution_count": 145,
   "metadata": {
    "collapsed": false
   },
   "outputs": [],
   "source": [
    "cat_vars.remove('term')\n",
    "num_vars.append('term')"
   ]
  },
  {
   "cell_type": "code",
   "execution_count": 146,
   "metadata": {
    "collapsed": false
   },
   "outputs": [
    {
     "name": "stdout",
     "output_type": "stream",
     "text": [
      "2 71 19 (176552, 100)\n"
     ]
    }
   ],
   "source": [
    "print(len(cat_vars), len(num_vars), len(OHE_vars), df_2014.shape)"
   ]
  },
  {
   "cell_type": "code",
   "execution_count": 147,
   "metadata": {
    "collapsed": false
   },
   "outputs": [
    {
     "data": {
      "text/plain": [
       "array(['INDIVIDUAL'], dtype=object)"
      ]
     },
     "execution_count": 147,
     "metadata": {},
     "output_type": "execute_result"
    }
   ],
   "source": [
    "df_2014.applicationtype.unique()"
   ]
  },
  {
   "cell_type": "markdown",
   "metadata": {},
   "source": [
    "### Feature 17. 'issued' - convert to date - not in training set. \n",
    "\n",
    "This feature only marks the issued date of each loan, which is useful for train-test splitting, but not used in the training model. "
   ]
  },
  {
   "cell_type": "code",
   "execution_count": 148,
   "metadata": {
    "collapsed": false
   },
   "outputs": [],
   "source": [
    "df_2014.issued = df_2014.issued.astype('str').apply(lambda x: dt.datetime.strptime(str(x), '%b-%Y'))"
   ]
  },
  {
   "cell_type": "code",
   "execution_count": 149,
   "metadata": {
    "collapsed": false
   },
   "outputs": [],
   "source": [
    "cat_vars.remove('issued')"
   ]
  },
  {
   "cell_type": "markdown",
   "metadata": {},
   "source": [
    "### Feature 18. 'loanstatus' - Target - 'charged_off' = 1, 'fully_paid' = 0\n",
    "\n",
    "This is the target feature. 1 for \"charged off\", 0 for \"fully paid\"."
   ]
  },
  {
   "cell_type": "code",
   "execution_count": 151,
   "metadata": {
    "collapsed": false
   },
   "outputs": [],
   "source": [
    "df_2014.loanstatus = df_2014.loanstatus.map({'Charged Off': 1, 'Default': 1, 'Fully Paid': 0})"
   ]
  },
  {
   "cell_type": "code",
   "execution_count": 152,
   "metadata": {
    "collapsed": true
   },
   "outputs": [],
   "source": [
    "cat_vars.remove('loanstatus')"
   ]
  },
  {
   "cell_type": "code",
   "execution_count": 153,
   "metadata": {
    "collapsed": false
   },
   "outputs": [
    {
     "name": "stdout",
     "output_type": "stream",
     "text": [
      "0 71 19 (176552, 100)\n"
     ]
    }
   ],
   "source": [
    "print(len(cat_vars), len(num_vars), len(OHE_vars), df_2014.shape)"
   ]
  },
  {
   "cell_type": "markdown",
   "metadata": {},
   "source": [
    "## Feature Responses Visualization\n",
    "\n",
    "In this section, several important features are plotted with their responses of loan status. The values of each feature are assigned into different bins and the average default rates (mean of loan status) in each bin are plotted using bar plot. "
   ]
  },
  {
   "cell_type": "markdown",
   "metadata": {},
   "source": [
    "### dti - Debt to Income Ratio"
   ]
  },
  {
   "cell_type": "code",
   "execution_count": 155,
   "metadata": {
    "collapsed": false
   },
   "outputs": [],
   "source": [
    "%matplotlib inline\n",
    "sns.set_style('darkgrid')"
   ]
  },
  {
   "cell_type": "code",
   "execution_count": 156,
   "metadata": {
    "collapsed": false
   },
   "outputs": [],
   "source": [
    "df_2014['bin_dti'] = pd.cut(df_2014.dti, bins=5, precision=0)"
   ]
  },
  {
   "cell_type": "code",
   "execution_count": 158,
   "metadata": {
    "collapsed": false
   },
   "outputs": [
    {
     "data": {
      "text/plain": [
       "<matplotlib.axes._subplots.AxesSubplot at 0x265a55ce9b0>"
      ]
     },
     "execution_count": 158,
     "metadata": {},
     "output_type": "execute_result"
    },
    {
     "data": {
      "image/png": "[encoded data removed]",
      "text/plain": [
       "<matplotlib.figure.Figure at 0x265a607a908>"
      ]
     },
     "metadata": {},
     "output_type": "display_data"
    }
   ],
   "source": [
    "sns.barplot(x='bin_dti', y= 'loanstatus', data = df_2014, palette=sns.color_palette(\"YlGnBu\", 10))"
   ]
  },
  {
   "cell_type": "markdown",
   "metadata": {},
   "source": [
    "The figure above shows that the debt-to-income ratio is very related with the loan status. Higher dti leads to higher chance of default. "
   ]
  },
  {
   "cell_type": "markdown",
   "metadata": {
    "collapsed": false
   },
   "source": [
    "### grade and subgrade"
   ]
  },
  {
   "cell_type": "code",
   "execution_count": 159,
   "metadata": {
    "collapsed": false
   },
   "outputs": [
    {
     "data": {
      "text/plain": [
       "<matplotlib.axes._subplots.AxesSubplot at 0x265a634e128>"
      ]
     },
     "execution_count": 159,
     "metadata": {},
     "output_type": "execute_result"
    },
    {
     "data": {
      "image/png": "[encoded data removed]",
      "text/plain": [
       "<matplotlib.figure.Figure at 0x265a607a390>"
      ]
     },
     "metadata": {},
     "output_type": "display_data"
    }
   ],
   "source": [
    "sns.barplot(x = 'grade', y = 'loanstatus', data = df_2014)"
   ]
  },
  {
   "cell_type": "code",
   "execution_count": 160,
   "metadata": {
    "collapsed": false
   },
   "outputs": [
    {
     "data": {
      "text/plain": [
       "<matplotlib.axes._subplots.AxesSubplot at 0x265a8b1b0b8>"
      ]
     },
     "execution_count": 160,
     "metadata": {},
     "output_type": "execute_result"
    },
    {
     "data": {
      "image/png": "[encoded data removed]",
      "text/plain": [
       "<matplotlib.figure.Figure at 0x265a7d45048>"
      ]
     },
     "metadata": {},
     "output_type": "display_data"
    }
   ],
   "source": [
    "sns.barplot(x = 'subgrade', y = 'loanstatus', data = df_2014)"
   ]
  },
  {
   "cell_type": "markdown",
   "metadata": {},
   "source": [
    "Grade and subgrade clearly show an increasing trend with default rate. They are good indicators of risk levels. "
   ]
  },
  {
   "cell_type": "markdown",
   "metadata": {},
   "source": [
    "### annualinc - Annual Income\n",
    "\n",
    "The distribution of annual income is very skewed based on the violin plot, so the upper range of annual income is cut from 200000, with bin size of 25000. "
   ]
  },
  {
   "cell_type": "code",
   "execution_count": 162,
   "metadata": {
    "collapsed": false
   },
   "outputs": [],
   "source": [
    "df_2014['bin_annualinc'] = pd.cut(df_2014.annualinc, bins=[0, 25000, 50000, 75000, \\\n",
    "                                                           100000, 125000, 150000, \\\n",
    "                                                           175000, 200000, max(df_2014.annualinc)], precision=0)"
   ]
  },
  {
   "cell_type": "code",
   "execution_count": 164,
   "metadata": {
    "collapsed": false
   },
   "outputs": [
    {
     "data": {
      "text/plain": [
       "<matplotlib.axes._subplots.AxesSubplot at 0x265a9aa30f0>"
      ]
     },
     "execution_count": 164,
     "metadata": {},
     "output_type": "execute_result"
    },
    {
     "data": {
      "image/png": "[encoded data removed]",
      "text/plain": [
       "<matplotlib.figure.Figure at 0x265acbcb780>"
      ]
     },
     "metadata": {},
     "output_type": "display_data"
    }
   ],
   "source": [
    "sns.violinplot(x='annualinc', data= df_2014[df_2014['annualinc'] <300000])"
   ]
  },
  {
   "cell_type": "code",
   "execution_count": 165,
   "metadata": {
    "collapsed": false
   },
   "outputs": [
    {
     "data": {
      "text/plain": [
       "[<matplotlib.text.Text at 0x265ad270908>,\n",
       " <matplotlib.text.Text at 0x265ad3ab3c8>,\n",
       " <matplotlib.text.Text at 0x265ad682748>,\n",
       " <matplotlib.text.Text at 0x265ad6aada0>,\n",
       " <matplotlib.text.Text at 0x265ad6aa0f0>,\n",
       " <matplotlib.text.Text at 0x265ad6e1588>,\n",
       " <matplotlib.text.Text at 0x265ad751c50>,\n",
       " <matplotlib.text.Text at 0x265ad751128>,\n",
       " <matplotlib.text.Text at 0x265ad779588>]"
      ]
     },
     "execution_count": 165,
     "metadata": {},
     "output_type": "execute_result"
    },
    {
     "data": {
      "image/png": "[encoded data removed]",
      "text/plain": [
       "<matplotlib.figure.Figure at 0x265a7c86da0>"
      ]
     },
     "metadata": {},
     "output_type": "display_data"
    }
   ],
   "source": [
    "fig = sns.barplot(x='bin_annualinc', y= 'loanstatus', data = df_2014, palette=sns.color_palette(\"YlGnBu\", 10))\n",
    "fig.set_xticklabels(labels=['<25k', '25-50k', '50-75k', '75-100k', '100-125k', '125-150k',\\\n",
    "                            '150-175k', '175-200k', '>200k'], rotation = 30)"
   ]
  },
  {
   "cell_type": "markdown",
   "metadata": {},
   "source": [
    "The fitures show that the higher annual income, the lower chance of default. "
   ]
  },
  {
   "cell_type": "markdown",
   "metadata": {},
   "source": [
    "### Intrate - Interest Rate"
   ]
  },
  {
   "cell_type": "code",
   "execution_count": 167,
   "metadata": {
    "collapsed": false
   },
   "outputs": [],
   "source": [
    "df_2014['bin_intrate'] = pd.cut(df_2014.intrate, bins=5, precision=2)"
   ]
  },
  {
   "cell_type": "code",
   "execution_count": 169,
   "metadata": {
    "collapsed": false
   },
   "outputs": [
    {
     "data": {
      "image/png": "[encoded data removed]",
      "text/plain": [
       "<matplotlib.figure.Figure at 0x265ad3ab0f0>"
      ]
     },
     "metadata": {},
     "output_type": "display_data"
    }
   ],
   "source": [
    "fig = sns.barplot(x='bin_intrate', y= 'loanstatus', data = df_2014, palette=sns.color_palette(\"YlGnBu\", 5))"
   ]
  },
  {
   "cell_type": "markdown",
   "metadata": {},
   "source": [
    "The Interest Rate clearly shows a positive linear relationship with default rate. "
   ]
  },
  {
   "cell_type": "markdown",
   "metadata": {},
   "source": [
    "### Installment"
   ]
  },
  {
   "cell_type": "code",
   "execution_count": 171,
   "metadata": {
    "collapsed": true
   },
   "outputs": [],
   "source": [
    "df_2014['bin_installment'] = pd.cut(df_2014.installment, bins=5, precision=2)"
   ]
  },
  {
   "cell_type": "code",
   "execution_count": 174,
   "metadata": {
    "collapsed": false
   },
   "outputs": [
    {
     "data": {
      "text/plain": [
       "(array([0, 1, 2, 3, 4]), <a list of 5 Text xticklabel objects>)"
      ]
     },
     "execution_count": 174,
     "metadata": {},
     "output_type": "execute_result"
    },
    {
     "data": {
      "image/png": "[encoded data removed]",
      "text/plain": [
       "<matplotlib.figure.Figure at 0x265a7c867b8>"
      ]
     },
     "metadata": {},
     "output_type": "display_data"
    }
   ],
   "source": [
    "fig = sns.barplot(x='bin_installment', y= 'loanstatus', data = df_2014, palette=sns.color_palette(\"YlGnBu\", 5))\n",
    "plt.xticks(rotation = 30)"
   ]
  },
  {
   "cell_type": "markdown",
   "metadata": {
    "collapsed": false
   },
   "source": [
    "The installment amount may have a parabolic relationship with the default rate. "
   ]
  },
  {
   "cell_type": "markdown",
   "metadata": {},
   "source": [
    "### bcutil - Ration of total current loan balance to bank card credit limit (Portion of Balance)"
   ]
  },
  {
   "cell_type": "code",
   "execution_count": 176,
   "metadata": {
    "collapsed": false
   },
   "outputs": [
    {
     "data": {
      "text/plain": [
       "<matplotlib.axes._subplots.AxesSubplot at 0x265af10cf60>"
      ]
     },
     "execution_count": 176,
     "metadata": {},
     "output_type": "execute_result"
    },
    {
     "data": {
      "image/png": "[encoded data removed]",
      "text/plain": [
       "<matplotlib.figure.Figure at 0x265ad880ac8>"
      ]
     },
     "metadata": {},
     "output_type": "display_data"
    }
   ],
   "source": [
    "sns.violinplot(x='bcutil', data= df_2014)"
   ]
  },
  {
   "cell_type": "markdown",
   "metadata": {},
   "source": [
    "The distribution of the Portion of Balance is also very skewed. A interesting finding from this figure is that most of the borrowers on Lending Clube have used almost > 90% of their credit limit. So Lending Club may be dealing with highly risky borrowers that may not be able to borrow from banks. There are a small amount of borrowers with loan balance > 3 times of credit limit. These may mark even higher risk of default. "
   ]
  },
  {
   "cell_type": "code",
   "execution_count": 177,
   "metadata": {
    "collapsed": false
   },
   "outputs": [],
   "source": [
    "df_2014['bin_bcutil'] = pd.cut(df_2014.bcutil, bins=[0, 20, 40, 60, \\\n",
    "                                                           80, 100, 120, \\\n",
    "                                                           max(df_2014.bcutil)], precision=0)"
   ]
  },
  {
   "cell_type": "code",
   "execution_count": 179,
   "metadata": {
    "collapsed": false
   },
   "outputs": [
    {
     "data": {
      "text/plain": [
       "[<matplotlib.text.Text at 0x265a54f2940>,\n",
       " <matplotlib.text.Text at 0x265a54b0dd8>,\n",
       " <matplotlib.text.Text at 0x265a52caf28>,\n",
       " <matplotlib.text.Text at 0x265a52cab00>,\n",
       " <matplotlib.text.Text at 0x265a52be518>,\n",
       " <matplotlib.text.Text at 0x265a52a2518>,\n",
       " <matplotlib.text.Text at 0x265a52a2b00>]"
      ]
     },
     "execution_count": 179,
     "metadata": {},
     "output_type": "execute_result"
    },
    {
     "data": {
      "image/png": "[encoded data removed]",
      "text/plain": [
       "<matplotlib.figure.Figure at 0x265af5ce358>"
      ]
     },
     "metadata": {},
     "output_type": "display_data"
    }
   ],
   "source": [
    "fig = sns.barplot(x='bin_bcutil', y= 'loanstatus', data = df_2014, palette=sns.color_palette(\"YlGnBu\", 10))\n",
    "fig.set_xticklabels(labels=['<20%', '20-40%', '40-60%', '60-80%', '80-100%', '100-120%', '>120%'])"
   ]
  },
  {
   "cell_type": "markdown",
   "metadata": {},
   "source": [
    "It is not surprising to see an increasing trend of default rate vs. Portion of Balance. The variance of default rate also increase with higher Portion of Balance. "
   ]
  },
  {
   "cell_type": "markdown",
   "metadata": {},
   "source": [
    "### Credit History"
   ]
  },
  {
   "cell_type": "code",
   "execution_count": 181,
   "metadata": {
    "collapsed": true
   },
   "outputs": [],
   "source": [
    "df_2014['bin_credit_hist'] = pd.cut(df_2014.credit_hist, bins=5, precision=0)"
   ]
  },
  {
   "cell_type": "code",
   "execution_count": 182,
   "metadata": {
    "collapsed": false
   },
   "outputs": [
    {
     "data": {
      "text/plain": [
       "(1863.0, 6843.0]      101324\n",
       "(6843.0, 11798.0]      64785\n",
       "(11798.0, 16754.0]      9635\n",
       "(16754.0, 21709.0]       794\n",
       "(21709.0, 26664.0]        14\n",
       "Name: bin_credit_hist, dtype: int64"
      ]
     },
     "execution_count": 182,
     "metadata": {},
     "output_type": "execute_result"
    }
   ],
   "source": [
    "df_2014.bin_credit_hist.value_counts()"
   ]
  },
  {
   "cell_type": "code",
   "execution_count": 186,
   "metadata": {
    "collapsed": false
   },
   "outputs": [
    {
     "data": {
      "text/plain": [
       "(array([0, 1, 2, 3, 4]), <a list of 5 Text xticklabel objects>)"
      ]
     },
     "execution_count": 186,
     "metadata": {},
     "output_type": "execute_result"
    },
    {
     "data": {
      "image/png": "[encoded data removed]",
      "text/plain": [
       "<matplotlib.figure.Figure at 0x265af4d6e48>"
      ]
     },
     "metadata": {},
     "output_type": "display_data"
    }
   ],
   "source": [
    "fig = sns.barplot(x='bin_credit_hist', y= 'loanstatus', data = df_2014, palette=sns.color_palette(\"YlGnBu\", 5))\n",
    "plt.xticks(rotation = 30)"
   ]
  },
  {
   "cell_type": "markdown",
   "metadata": {},
   "source": [
    "No apparent trend is seen between credit history and default rate, although the variation seems to increase with longer credit history. "
   ]
  },
  {
   "cell_type": "markdown",
   "metadata": {},
   "source": [
    "# XGBoost Model Building\n",
    "\n",
    "[[go back to the top]](#TABLE-OF-CONTENTS)"
   ]
  },
  {
   "cell_type": "markdown",
   "metadata": {},
   "source": [
    "## Train/Test Splitting"
   ]
  },
  {
   "cell_type": "markdown",
   "metadata": {
    "collapsed": false
   },
   "source": [
    "Because this model uses historic data to predict future performances, when spliting the train/test datasets, the historic 2014 loan data are splitted into two parts chronologically: Dec/Nov/Oct data as the test set, and Jan - Sep as the train set. "
   ]
  },
  {
   "cell_type": "code",
   "execution_count": 190,
   "metadata": {
    "collapsed": false
   },
   "outputs": [],
   "source": [
    "num_vars.remove('id')"
   ]
  },
  {
   "cell_type": "code",
   "execution_count": 191,
   "metadata": {
    "collapsed": false
   },
   "outputs": [],
   "source": [
    "train_vars = num_vars + OHE_vars"
   ]
  },
  {
   "cell_type": "code",
   "execution_count": 192,
   "metadata": {
    "collapsed": false
   },
   "outputs": [],
   "source": [
    "df_train = df_2014[train_vars + ['loanstatus']][df_2014.issued < dt.date(2014, 10, 1)]\n",
    "df_test = df_2014[train_vars + ['loanstatus']][df_2014.issued >= dt.date(2014, 10, 1)]"
   ]
  },
  {
   "cell_type": "code",
   "execution_count": 194,
   "metadata": {
    "collapsed": false,
    "scrolled": true
   },
   "outputs": [
    {
     "data": {
      "text/plain": [
       "(176552, 106)"
      ]
     },
     "execution_count": 194,
     "metadata": {},
     "output_type": "execute_result"
    }
   ],
   "source": [
    "df_2014.shape"
   ]
  },
  {
   "cell_type": "markdown",
   "metadata": {},
   "source": [
    "## Parameter Auto-tuning\n",
    "\n",
    "In this section both packages of XGBoost and BayesianOptimization are used. XGBoost is the model buiding algorithm. There are a number of parameters used in XGBoost, of which 5 parameters are of greater importance and given fine tuning. The parameter tuning is conducted with the Bayesian Optimization algorithm. \n",
    "\n",
    "Bayesian Optmization is a constrained global optimization package built upon bayesian inference and gaussian process. It attempts to find the maximum value of an unknown function based on a few starting points, in as few iterations as possible. This technique is particularly suited for optimization of high cost functions. In this case the target function is the cross-validation score from XGBoost models. The function is defined as \"xgb_evaluate\", where the output of this function is the best cross-validation score for each set of parameters. The cross-validation uses \"auc\" (area under the ROC curve) as the scoring mectrics. The early stop callback is set at 50, meaning that if no improvement of score after 50 interations, the procedure is stopped. \n",
    "\n",
    "The Bayesian Optimization process then maximizes the target function based on 8 initial points and interate 40 times to yield the best set of parameters leading to the highst \"auc\" scores. "
   ]
  },
  {
   "cell_type": "code",
   "execution_count": 195,
   "metadata": {
    "collapsed": false
   },
   "outputs": [],
   "source": [
    "import xgboost as xgb\n",
    "from bayes_opt import BayesianOptimization\n",
    "from sklearn import metrics, preprocessing, cross_validation"
   ]
  },
  {
   "cell_type": "code",
   "execution_count": 196,
   "metadata": {
    "collapsed": false
   },
   "outputs": [],
   "source": [
    "x_train = df_train[train_vars]\n",
    "y_train = df_train['loanstatus']\n",
    "x_test = df_test[train_vars]\n",
    "y_test = df_test['loanstatus']"
   ]
  },
  {
   "cell_type": "code",
   "execution_count": 197,
   "metadata": {
    "collapsed": false
   },
   "outputs": [],
   "source": [
    "dtrain = xgb.DMatrix(x_train, y_train, missing= np.nan)\n",
    "dtest = xgb.DMatrix(x_test, missing= np.nan)"
   ]
  },
  {
   "cell_type": "code",
   "execution_count": 198,
   "metadata": {
    "collapsed": true
   },
   "outputs": [],
   "source": [
    "def xgb_evaluate(min_child_weight,\n",
    "                 colsample_bytree,\n",
    "                 max_depth,\n",
    "                 subsample,\n",
    "                 gamma):\n",
    "    params = dict()\n",
    "    params['objective'] = 'binary:logistic'\n",
    "    params['eta'] = 0.1\n",
    "    params['max_depth'] = int(max_depth)   \n",
    "    params['min_child_weight'] = int(min_child_weight)\n",
    "    params['colsample_bytree'] = colsample_bytree\n",
    "    params['subsample'] = subsample\n",
    "    params['gamma'] = gamma\n",
    "    params['verbose_eval'] = True    \n",
    "\n",
    "\n",
    "    cv_result = xgb.cv(params, dtrain,\n",
    "                       num_boost_round=15000,\n",
    "                       nfold=5,\n",
    "                       metrics={'auc'},\n",
    "                       seed=1234,\n",
    "                       stratified=True,\n",
    "                       callbacks=[xgb.callback.early_stop(50)])\n",
    "\n",
    "    return cv_result['test-auc-mean'].max()"
   ]
  },
  {
   "cell_type": "code",
   "execution_count": 199,
   "metadata": {
    "collapsed": true
   },
   "outputs": [],
   "source": [
    "xgb_BO = BayesianOptimization(xgb_evaluate, \n",
    "                             {'max_depth': (3, 10),\n",
    "                              'min_child_weight': (0, 100),\n",
    "                              'colsample_bytree': (0.5, 1),\n",
    "                              'subsample': (0.5, 1),\n",
    "                              'gamma': (0, 2)\n",
    "                             }\n",
    "                            )"
   ]
  },
  {
   "cell_type": "code",
   "execution_count": 200,
   "metadata": {
    "collapsed": true
   },
   "outputs": [
    {
     "name": "stdout",
     "output_type": "stream",
     "text": [
      "\u001b[31mInitialization\u001b[0m\n",
      "\u001b[94m---------------------------------------------------------------------------------------------------------------\u001b[0m\n",
      " Step |   Time |      Value |   colsample_bytree |     gamma |   max_depth |   min_child_weight |   subsample | \n",
      "Multiple eval metrics have been passed: 'test-auc' will be used for early stopping.\n",
      "\n",
      "Will train until test-auc hasn't improved in 50 rounds.\n",
      "Stopping. Best iteration:\n",
      "[79]\ttrain-auc:0.811886+0.000808782\ttest-auc:0.729287+0.00273935\n",
      "\n",
      "    1 | 01m41s | \u001b[35m   0.72929\u001b[0m | \u001b[32m            0.5225\u001b[0m | \u001b[32m   0.1654\u001b[0m | \u001b[32m     7.6720\u001b[0m | \u001b[32m            3.2764\u001b[0m | \u001b[32m     0.7968\u001b[0m | \n",
      "Multiple eval metrics have been passed: 'test-auc' will be used for early stopping.\n",
      "\n",
      "Will train until test-auc hasn't improved in 50 rounds.\n",
      "Stopping. Best iteration:\n",
      "[144]\ttrain-auc:0.781709+0.000471055\ttest-auc:0.73176+0.00225708\n",
      "\n",
      "    2 | 03m05s | \u001b[35m   0.73176\u001b[0m | \u001b[32m            0.5852\u001b[0m | \u001b[32m   1.9470\u001b[0m | \u001b[32m     7.4574\u001b[0m | \u001b[32m           94.6238\u001b[0m | \u001b[32m     0.6007\u001b[0m | \n",
      "Multiple eval metrics have been passed: 'test-auc' will be used for early stopping.\n",
      "\n",
      "Will train until test-auc hasn't improved in 50 rounds.\n",
      "Stopping. Best iteration:\n",
      "[117]\ttrain-auc:0.813371+0.000335896\ttest-auc:0.730501+0.00296102\n",
      "\n",
      "    3 | 02m34s |    0.73050 |             0.5762 |    1.5039 |      8.4683 |            44.7973 |      0.8347 | \n",
      "Multiple eval metrics have been passed: 'test-auc' will be used for early stopping.\n",
      "\n",
      "Will train until test-auc hasn't improved in 50 rounds.\n",
      "Stopping. Best iteration:\n",
      "[63]\ttrain-auc:0.819622+0.00101833\ttest-auc:0.727579+0.00194767\n",
      "\n",
      "    4 | 02m33s |    0.72758 |             0.8312 |    1.7794 |      8.6479 |             6.8893 |      0.5946 | \n",
      "Multiple eval metrics have been passed: 'test-auc' will be used for early stopping.\n",
      "\n",
      "Will train until test-auc hasn't improved in 50 rounds.\n",
      "Stopping. Best iteration:\n",
      "[86]\ttrain-auc:0.802383+0.00123094\ttest-auc:0.729163+0.00367567\n",
      "\n",
      "    5 | 02m50s |    0.72916 |             0.7042 |    1.0415 |      9.0517 |            49.0086 |      0.6667 | \n",
      "Multiple eval metrics have been passed: 'test-auc' will be used for early stopping.\n",
      "\n",
      "Will train until test-auc hasn't improved in 50 rounds.\n",
      "Stopping. Best iteration:\n",
      "[257]\ttrain-auc:0.767962+0.000396443\ttest-auc:0.733016+0.00300963\n",
      "\n",
      "    6 | 03m07s | \u001b[35m   0.73302\u001b[0m | \u001b[32m            0.7945\u001b[0m | \u001b[32m   0.8844\u001b[0m | \u001b[32m     4.4689\u001b[0m | \u001b[32m           70.6506\u001b[0m | \u001b[32m     0.8786\u001b[0m | \n",
      "Multiple eval metrics have been passed: 'test-auc' will be used for early stopping.\n",
      "\n",
      "Will train until test-auc hasn't improved in 50 rounds.\n",
      "Stopping. Best iteration:\n",
      "[428]\ttrain-auc:0.761191+0.000586303\ttest-auc:0.733051+0.00305501\n",
      "\n",
      "    7 | 03m41s | \u001b[35m   0.73305\u001b[0m | \u001b[32m            0.7698\u001b[0m | \u001b[32m   1.7404\u001b[0m | \u001b[32m     3.3362\u001b[0m | \u001b[32m           89.7335\u001b[0m | \u001b[32m     0.9460\u001b[0m | \n",
      "Multiple eval metrics have been passed: 'test-auc' will be used for early stopping.\n",
      "\n",
      "Will train until test-auc hasn't improved in 50 rounds.\n",
      "Stopping. Best iteration:\n",
      "[277]\ttrain-auc:0.755988+0.000665629\ttest-auc:0.731902+0.00289792\n",
      "\n",
      "    8 | 03m23s |    0.73190 |             0.9957 |    0.6273 |      3.8435 |            14.3134 |      0.5154 | \n",
      "\u001b[31mBayesian Optimization\u001b[0m\n",
      "\u001b[94m---------------------------------------------------------------------------------------------------------------\u001b[0m\n",
      " Step |   Time |      Value |   colsample_bytree |     gamma |   max_depth |   min_child_weight |   subsample | \n",
      "Multiple eval metrics have been passed: 'test-auc' will be used for early stopping.\n",
      "\n",
      "Will train until test-auc hasn't improved in 50 rounds.\n",
      "Stopping. Best iteration:\n",
      "[383]\ttrain-auc:0.763771+0.000721923\ttest-auc:0.732275+0.00275511\n",
      "\n",
      "    9 | 03m06s |    0.73227 |             0.5525 |    1.8469 |      3.0099 |             1.1851 |      0.9581 | \n",
      "Multiple eval metrics have been passed: 'test-auc' will be used for early stopping.\n",
      "\n",
      "Will train until test-auc hasn't improved in 50 rounds.\n",
      "Stopping. Best iteration:\n",
      "[269]\ttrain-auc:0.765507+0.000511421\ttest-auc:0.732518+0.00255043\n",
      "\n"
     ]
    },
    {
     "name": "stderr",
     "output_type": "stream",
     "text": [
      "C:\\python\\Anaconda3\\lib\\site-packages\\sklearn\\gaussian_process\\gpr.py:427: UserWarning: fmin_l_bfgs_b terminated abnormally with the  state: {'grad': array([ -7.39115543e-05]), 'task': b'ABNORMAL_TERMINATION_IN_LNSRCH', 'funcalls': 50, 'nit': 3, 'warnflag': 2}\n",
      "  \" state: %s\" % convergence_dict)\n"
     ]
    },
    {
     "name": "stdout",
     "output_type": "stream",
     "text": [
      "   10 | 02m27s |    0.73252 |             0.5006 |    0.0040 |      4.1831 |            99.2280 |      0.9975 | \n",
      "Multiple eval metrics have been passed: 'test-auc' will be used for early stopping.\n",
      "\n",
      "Will train until test-auc hasn't improved in 50 rounds.\n",
      "Stopping. Best iteration:\n",
      "[434]\ttrain-auc:0.76173+0.000645651\ttest-auc:0.732524+0.00293819\n",
      "\n"
     ]
    },
    {
     "name": "stderr",
     "output_type": "stream",
     "text": [
      "C:\\python\\Anaconda3\\lib\\site-packages\\sklearn\\gaussian_process\\gpr.py:427: UserWarning: fmin_l_bfgs_b terminated abnormally with the  state: {'grad': array([ 0.0003462]), 'task': b'ABNORMAL_TERMINATION_IN_LNSRCH', 'funcalls': 50, 'nit': 6, 'warnflag': 2}\n",
      "  \" state: %s\" % convergence_dict)\n"
     ]
    },
    {
     "name": "stdout",
     "output_type": "stream",
     "text": [
      "   11 | 03m20s |    0.73252 |             0.5067 |    1.6646 |      3.0371 |            36.7151 |      0.5218 | \n",
      "Multiple eval metrics have been passed: 'test-auc' will be used for early stopping.\n",
      "\n",
      "Will train until test-auc hasn't improved in 50 rounds.\n",
      "Stopping. Best iteration:\n",
      "[423]\ttrain-auc:0.762899+0.000746077\ttest-auc:0.732473+0.00298235\n",
      "\n"
     ]
    },
    {
     "name": "stderr",
     "output_type": "stream",
     "text": [
      "C:\\python\\Anaconda3\\lib\\site-packages\\sklearn\\gaussian_process\\gpr.py:427: UserWarning: fmin_l_bfgs_b terminated abnormally with the  state: {'grad': array([-0.00012298]), 'task': b'ABNORMAL_TERMINATION_IN_LNSRCH', 'funcalls': 59, 'nit': 6, 'warnflag': 2}\n",
      "  \" state: %s\" % convergence_dict)\n",
      "C:\\python\\Anaconda3\\lib\\site-packages\\sklearn\\gaussian_process\\gpr.py:308: UserWarning: Predicted variances smaller than 0. Setting those variances to 0.\n",
      "  warnings.warn(\"Predicted variances smaller than 0. \"\n"
     ]
    },
    {
     "name": "stdout",
     "output_type": "stream",
     "text": [
      "   12 | 02m55s |    0.73247 |             0.5054 |    0.6874 |      3.0100 |            24.9993 |      0.9924 | \n",
      "Multiple eval metrics have been passed: 'test-auc' will be used for early stopping.\n",
      "\n",
      "Will train until test-auc hasn't improved in 50 rounds.\n",
      "Stopping. Best iteration:\n",
      "[437]\ttrain-auc:0.763713+0.000704896\ttest-auc:0.732676+0.00288638\n",
      "\n",
      "   13 | 04m37s |    0.73268 |             0.9758 |    1.9255 |      3.1392 |            55.4462 |      0.9434 | \n",
      "Multiple eval metrics have been passed: 'test-auc' will be used for early stopping.\n",
      "\n",
      "Will train until test-auc hasn't improved in 50 rounds.\n",
      "Stopping. Best iteration:\n",
      "[429]\ttrain-auc:0.758719+0.000851918\ttest-auc:0.732309+0.00248762\n",
      "\n"
     ]
    },
    {
     "name": "stderr",
     "output_type": "stream",
     "text": [
      "C:\\python\\Anaconda3\\lib\\site-packages\\sklearn\\gaussian_process\\gpr.py:427: UserWarning: fmin_l_bfgs_b terminated abnormally with the  state: {'grad': array([-0.00024162]), 'task': b'ABNORMAL_TERMINATION_IN_LNSRCH', 'funcalls': 53, 'nit': 6, 'warnflag': 2}\n",
      "  \" state: %s\" % convergence_dict)\n"
     ]
    },
    {
     "name": "stdout",
     "output_type": "stream",
     "text": [
      "   14 | 03m13s |    0.73231 |             0.5019 |    1.8098 |      3.0278 |            99.3550 |      0.6313 | \n",
      "Multiple eval metrics have been passed: 'test-auc' will be used for early stopping.\n",
      "\n",
      "Will train until test-auc hasn't improved in 50 rounds.\n",
      "Stopping. Best iteration:\n",
      "[447]\ttrain-auc:0.761934+0.000853866\ttest-auc:0.732778+0.00296676\n",
      "\n",
      "   15 | 03m10s |    0.73278 |             0.5361 |    1.9393 |      3.1314 |            69.3074 |      0.9884 | \n",
      "Multiple eval metrics have been passed: 'test-auc' will be used for early stopping.\n",
      "\n",
      "Will train until test-auc hasn't improved in 50 rounds.\n",
      "Stopping. Best iteration:\n",
      "[94]\ttrain-auc:0.796738+0.000570413\ttest-auc:0.731313+0.00287163\n",
      "\n",
      "   16 | 03m50s |    0.73131 |             0.9933 |    1.7109 |      9.0647 |            99.9134 |      0.9421 | \n",
      "Multiple eval metrics have been passed: 'test-auc' will be used for early stopping.\n",
      "\n",
      "Will train until test-auc hasn't improved in 50 rounds.\n",
      "Stopping. Best iteration:\n",
      "[525]\ttrain-auc:0.769073+0.000971433\ttest-auc:0.732431+0.00304577\n",
      "\n",
      "   17 | 05m29s |    0.73243 |             0.9979 |    0.0529 |      3.6109 |            37.1785 |      0.9753 | \n",
      "Multiple eval metrics have been passed: 'test-auc' will be used for early stopping.\n",
      "\n",
      "Will train until test-auc hasn't improved in 50 rounds.\n",
      "Stopping. Best iteration:\n",
      "[298]\ttrain-auc:0.753793+0.000661804\ttest-auc:0.732515+0.00262744\n",
      "\n",
      "   18 | 03m56s |    0.73251 |             0.9991 |    0.2218 |      3.2631 |            83.6301 |      0.5062 | \n",
      "Multiple eval metrics have been passed: 'test-auc' will be used for early stopping.\n",
      "\n",
      "Will train until test-auc hasn't improved in 50 rounds.\n",
      "Stopping. Best iteration:\n",
      "[97]\ttrain-auc:0.804511+0.00142647\ttest-auc:0.73098+0.00266598\n",
      "\n",
      "   19 | 03m57s |    0.73098 |             0.9936 |    1.9961 |      9.9941 |            78.8293 |      0.9349 | \n",
      "Multiple eval metrics have been passed: 'test-auc' will be used for early stopping.\n",
      "\n",
      "Will train until test-auc hasn't improved in 50 rounds.\n",
      "Stopping. Best iteration:\n",
      "[364]\ttrain-auc:0.761297+0.00049306\ttest-auc:0.73196+0.00253608\n",
      "\n"
     ]
    },
    {
     "name": "stderr",
     "output_type": "stream",
     "text": [
      "C:\\python\\Anaconda3\\lib\\site-packages\\sklearn\\gaussian_process\\gpr.py:427: UserWarning: fmin_l_bfgs_b terminated abnormally with the  state: {'grad': array([ -2.41598318e-05]), 'task': b'ABNORMAL_TERMINATION_IN_LNSRCH', 'funcalls': 61, 'nit': 5, 'warnflag': 2}\n",
      "  \" state: %s\" % convergence_dict)\n"
     ]
    },
    {
     "name": "stdout",
     "output_type": "stream",
     "text": [
      "   20 | 02m48s |    0.73196 |             0.5671 |    0.1547 |      3.0494 |             8.8773 |      0.9781 | \n",
      "Multiple eval metrics have been passed: 'test-auc' will be used for early stopping.\n",
      "\n",
      "Will train until test-auc hasn't improved in 50 rounds.\n",
      "Stopping. Best iteration:\n",
      "[371]\ttrain-auc:0.765638+0.000536803\ttest-auc:0.731959+0.00310219\n",
      "\n",
      "   21 | 04m24s |    0.73196 |             0.9550 |    0.2039 |      3.1582 |             0.4525 |      0.6124 | \n",
      "Multiple eval metrics have been passed: 'test-auc' will be used for early stopping.\n",
      "\n",
      "Will train until test-auc hasn't improved in 50 rounds.\n",
      "Stopping. Best iteration:\n",
      "[462]\ttrain-auc:0.766521+0.000737136\ttest-auc:0.732581+0.00308396\n",
      "\n"
     ]
    },
    {
     "name": "stderr",
     "output_type": "stream",
     "text": [
      "C:\\python\\Anaconda3\\lib\\site-packages\\sklearn\\gaussian_process\\gpr.py:427: UserWarning: fmin_l_bfgs_b terminated abnormally with the  state: {'grad': array([ -1.52473640e-05]), 'task': b'ABNORMAL_TERMINATION_IN_LNSRCH', 'funcalls': 55, 'nit': 5, 'warnflag': 2}\n",
      "  \" state: %s\" % convergence_dict)\n"
     ]
    },
    {
     "name": "stdout",
     "output_type": "stream",
     "text": [
      "   22 | 04m54s |    0.73258 |             0.9791 |    1.8872 |      3.9783 |            33.7991 |      0.9612 | \n",
      "Multiple eval metrics have been passed: 'test-auc' will be used for early stopping.\n",
      "\n",
      "Will train until test-auc hasn't improved in 50 rounds.\n",
      "Stopping. Best iteration:\n",
      "[438]\ttrain-auc:0.761745+0.000713643\ttest-auc:0.732852+0.00296446\n",
      "\n",
      "   23 | 04m41s |    0.73285 |             0.9980 |    0.1880 |      3.0743 |            95.0166 |      0.9996 | \n",
      "Multiple eval metrics have been passed: 'test-auc' will be used for early stopping.\n",
      "\n",
      "Will train until test-auc hasn't improved in 50 rounds.\n",
      "Stopping. Best iteration:\n",
      "[439]\ttrain-auc:0.763984+0.00100382\ttest-auc:0.732229+0.00287895\n",
      "\n"
     ]
    },
    {
     "name": "stderr",
     "output_type": "stream",
     "text": [
      "C:\\python\\Anaconda3\\lib\\site-packages\\sklearn\\gaussian_process\\gpr.py:427: UserWarning: fmin_l_bfgs_b terminated abnormally with the  state: {'grad': array([ 0.00066232]), 'task': b'ABNORMAL_TERMINATION_IN_LNSRCH', 'funcalls': 56, 'nit': 5, 'warnflag': 2}\n",
      "  \" state: %s\" % convergence_dict)\n"
     ]
    },
    {
     "name": "stdout",
     "output_type": "stream",
     "text": [
      "   24 | 04m34s |    0.73223 |             0.9374 |    1.9003 |      3.5453 |            45.1773 |      0.9754 | \n",
      "Multiple eval metrics have been passed: 'test-auc' will be used for early stopping.\n",
      "\n",
      "Will train until test-auc hasn't improved in 50 rounds.\n",
      "Stopping. Best iteration:\n",
      "[448]\ttrain-auc:0.762223+0.000594522\ttest-auc:0.733219+0.00320019\n",
      "\n",
      "   25 | 03m12s | \u001b[35m   0.73322\u001b[0m | \u001b[32m            0.5123\u001b[0m | \u001b[32m   0.0939\u001b[0m | \u001b[32m     3.1282\u001b[0m | \u001b[32m           62.1037\u001b[0m | \u001b[32m     0.9263\u001b[0m | \n",
      "Multiple eval metrics have been passed: 'test-auc' will be used for early stopping.\n",
      "\n",
      "Will train until test-auc hasn't improved in 50 rounds.\n",
      "Stopping. Best iteration:\n",
      "[222]\ttrain-auc:0.777919+0.00112029\ttest-auc:0.732887+0.00296713\n",
      "\n",
      "   26 | 02m37s |    0.73289 |             0.5290 |    0.0299 |      5.3878 |            79.4190 |      0.9796 | \n",
      "Multiple eval metrics have been passed: 'test-auc' will be used for early stopping.\n",
      "\n",
      "Will train until test-auc hasn't improved in 50 rounds.\n",
      "Stopping. Best iteration:\n",
      "[198]\ttrain-auc:0.792187+0.00144282\ttest-auc:0.731158+0.00297552\n",
      "\n"
     ]
    },
    {
     "name": "stderr",
     "output_type": "stream",
     "text": [
      "C:\\python\\Anaconda3\\lib\\site-packages\\sklearn\\gaussian_process\\gpr.py:427: UserWarning: fmin_l_bfgs_b terminated abnormally with the  state: {'grad': array([-0.00049019]), 'task': b'ABNORMAL_TERMINATION_IN_LNSRCH', 'funcalls': 53, 'nit': 4, 'warnflag': 2}\n",
      "  \" state: %s\" % convergence_dict)\n"
     ]
    },
    {
     "name": "stdout",
     "output_type": "stream",
     "text": [
      "   27 | 04m24s |    0.73116 |             0.9976 |    1.9406 |      6.1318 |            86.9074 |      0.9836 | \n",
      "Multiple eval metrics have been passed: 'test-auc' will be used for early stopping.\n",
      "\n",
      "Will train until test-auc hasn't improved in 50 rounds.\n",
      "Stopping. Best iteration:\n",
      "[80]\ttrain-auc:0.831629+0.000746133\ttest-auc:0.729759+0.00301402\n",
      "\n",
      "   28 | 02m16s |    0.72976 |             0.5380 |    0.1207 |      9.8727 |            27.5043 |      0.8982 | \n",
      "Multiple eval metrics have been passed: 'test-auc' will be used for early stopping.\n",
      "\n",
      "Will train until test-auc hasn't improved in 50 rounds.\n",
      "Stopping. Best iteration:\n",
      "[93]\ttrain-auc:0.80489+0.00110124\ttest-auc:0.730686+0.00224271\n",
      "\n"
     ]
    },
    {
     "name": "stderr",
     "output_type": "stream",
     "text": [
      "C:\\python\\Anaconda3\\lib\\site-packages\\sklearn\\gaussian_process\\gpr.py:427: UserWarning: fmin_l_bfgs_b terminated abnormally with the  state: {'grad': array([  5.89946285e-05]), 'task': b'ABNORMAL_TERMINATION_IN_LNSRCH', 'funcalls': 53, 'nit': 6, 'warnflag': 2}\n",
      "  \" state: %s\" % convergence_dict)\n"
     ]
    },
    {
     "name": "stdout",
     "output_type": "stream",
     "text": [
      "   29 | 02m21s |    0.73069 |             0.5099 |    0.2265 |      9.7184 |            68.7047 |      0.9220 | \n",
      "Multiple eval metrics have been passed: 'test-auc' will be used for early stopping.\n",
      "\n",
      "Will train until test-auc hasn't improved in 50 rounds.\n",
      "Stopping. Best iteration:\n",
      "[481]\ttrain-auc:0.763321+0.000645446\ttest-auc:0.733133+0.00283533\n",
      "\n",
      "   30 | 03m26s |    0.73313 |             0.5195 |    0.0466 |      3.0092 |            75.1464 |      0.9224 | \n",
      "Multiple eval metrics have been passed: 'test-auc' will be used for early stopping.\n",
      "\n",
      "Will train until test-auc hasn't improved in 50 rounds.\n",
      "Stopping. Best iteration:\n",
      "[462]\ttrain-auc:0.760769+0.000621117\ttest-auc:0.73307+0.00249348\n",
      "\n",
      "   31 | 03m30s |    0.73307 |             0.5122 |    0.0822 |      3.1249 |            89.9486 |      0.6657 | \n",
      "Multiple eval metrics have been passed: 'test-auc' will be used for early stopping.\n",
      "\n",
      "Will train until test-auc hasn't improved in 50 rounds.\n",
      "Stopping. Best iteration:\n",
      "[359]\ttrain-auc:0.758557+0.000580516\ttest-auc:0.732834+0.00283876\n",
      "\n"
     ]
    },
    {
     "name": "stderr",
     "output_type": "stream",
     "text": [
      "C:\\python\\Anaconda3\\lib\\site-packages\\sklearn\\gaussian_process\\gpr.py:427: UserWarning: fmin_l_bfgs_b terminated abnormally with the  state: {'grad': array([ 0.00060462]), 'task': b'ABNORMAL_TERMINATION_IN_LNSRCH', 'funcalls': 55, 'nit': 5, 'warnflag': 2}\n",
      "  \" state: %s\" % convergence_dict)\n",
      "C:\\python\\Anaconda3\\lib\\site-packages\\sklearn\\gaussian_process\\gpr.py:427: UserWarning: fmin_l_bfgs_b terminated abnormally with the  state: {'grad': array([-0.00355656]), 'task': b'ABNORMAL_TERMINATION_IN_LNSRCH', 'funcalls': 52, 'nit': 5, 'warnflag': 2}\n",
      "  \" state: %s\" % convergence_dict)\n"
     ]
    },
    {
     "name": "stdout",
     "output_type": "stream",
     "text": [
      "   32 | 04m20s |    0.73283 |             0.9730 |    0.0437 |      3.0221 |            64.7606 |      0.6085 | \n",
      "Multiple eval metrics have been passed: 'test-auc' will be used for early stopping.\n",
      "\n",
      "Will train until test-auc hasn't improved in 50 rounds.\n",
      "Stopping. Best iteration:\n",
      "[188]\ttrain-auc:0.767305+0.000594382\ttest-auc:0.731507+0.00224274\n",
      "\n",
      "   33 | 02m33s |    0.73151 |             0.5243 |    1.8379 |      5.3817 |            76.9180 |      0.5252 | \n",
      "Multiple eval metrics have been passed: 'test-auc' will be used for early stopping.\n",
      "\n",
      "Will train until test-auc hasn't improved in 50 rounds.\n",
      "Stopping. Best iteration:\n",
      "[448]\ttrain-auc:0.765878+0.000531705\ttest-auc:0.731935+0.00293552\n",
      "\n"
     ]
    },
    {
     "name": "stderr",
     "output_type": "stream",
     "text": [
      "C:\\python\\Anaconda3\\lib\\site-packages\\sklearn\\gaussian_process\\gpr.py:427: UserWarning: fmin_l_bfgs_b terminated abnormally with the  state: {'grad': array([ -2.37121712e-05]), 'task': b'ABNORMAL_TERMINATION_IN_LNSRCH', 'funcalls': 52, 'nit': 5, 'warnflag': 2}\n",
      "  \" state: %s\" % convergence_dict)\n"
     ]
    },
    {
     "name": "stdout",
     "output_type": "stream",
     "text": [
      "   34 | 03m22s |    0.73194 |             0.5565 |    1.9693 |      3.0534 |            16.5248 |      0.9725 | \n",
      "Multiple eval metrics have been passed: 'test-auc' will be used for early stopping.\n",
      "\n",
      "Will train until test-auc hasn't improved in 50 rounds.\n",
      "Stopping. Best iteration:\n",
      "[370]\ttrain-auc:0.762233+0.000695649\ttest-auc:0.731985+0.00255818\n",
      "\n",
      "   35 | 03m06s |    0.73199 |             0.5332 |    1.6861 |      3.0263 |             3.9102 |      0.5257 | \n",
      "Multiple eval metrics have been passed: 'test-auc' will be used for early stopping.\n",
      "\n",
      "Will train until test-auc hasn't improved in 50 rounds.\n",
      "Stopping. Best iteration:\n",
      "[528]\ttrain-auc:0.764225+0.000704813\ttest-auc:0.733073+0.00323163\n",
      "\n",
      "   36 | 03m38s |    0.73307 |             0.5098 |    1.3093 |      3.1736 |            93.0095 |      0.9980 | \n",
      "Multiple eval metrics have been passed: 'test-auc' will be used for early stopping.\n",
      "\n",
      "Will train until test-auc hasn't improved in 50 rounds.\n",
      "Stopping. Best iteration:\n",
      "[92]\ttrain-auc:0.774532+0.000987225\ttest-auc:0.730504+0.00252468\n",
      "\n",
      "   37 | 02m41s |    0.73050 |             0.5763 |    0.0247 |      9.7474 |            99.9338 |      0.5257 | \n",
      "Multiple eval metrics have been passed: 'test-auc' will be used for early stopping.\n",
      "\n",
      "Will train until test-auc hasn't improved in 50 rounds.\n",
      "Stopping. Best iteration:\n",
      "[437]\ttrain-auc:0.762157+0.000753353\ttest-auc:0.732956+0.00279546\n",
      "\n",
      "   38 | 03m23s |    0.73296 |             0.5957 |    0.0561 |      3.1088 |            53.2712 |      0.9602 | \n",
      "Multiple eval metrics have been passed: 'test-auc' will be used for early stopping.\n",
      "\n",
      "Will train until test-auc hasn't improved in 50 rounds.\n",
      "Stopping. Best iteration:\n",
      "[449]\ttrain-auc:0.763536+0.000733961\ttest-auc:0.73254+0.00269344\n",
      "\n",
      "   39 | 04m29s |    0.73254 |             0.8987 |    0.1602 |      3.5321 |            69.6551 |      0.9706 | \n",
      "Multiple eval metrics have been passed: 'test-auc' will be used for early stopping.\n",
      "\n",
      "Will train until test-auc hasn't improved in 50 rounds.\n",
      "Stopping. Best iteration:\n",
      "[169]\ttrain-auc:0.7716+0.000308697\ttest-auc:0.731633+0.0025969\n",
      "\n",
      "   40 | 02m36s |    0.73163 |             0.6021 |    0.0035 |      5.7415 |            32.9011 |      0.5049 | \n",
      "Multiple eval metrics have been passed: 'test-auc' will be used for early stopping.\n",
      "\n",
      "Will train until test-auc hasn't improved in 50 rounds.\n",
      "Stopping. Best iteration:\n",
      "[229]\ttrain-auc:0.784071+0.00124657\ttest-auc:0.731976+0.00240349\n",
      "\n",
      "   41 | 04m14s |    0.73198 |             0.9916 |    1.9962 |      5.3874 |            63.0974 |      0.9825 | \n",
      "Multiple eval metrics have been passed: 'test-auc' will be used for early stopping.\n",
      "\n",
      "Will train until test-auc hasn't improved in 50 rounds.\n",
      "Stopping. Best iteration:\n",
      "[125]\ttrain-auc:0.807338+0.000551939\ttest-auc:0.731366+0.00303667\n",
      "\n"
     ]
    },
    {
     "name": "stderr",
     "output_type": "stream",
     "text": [
      "C:\\python\\Anaconda3\\lib\\site-packages\\sklearn\\gaussian_process\\gpr.py:427: UserWarning: fmin_l_bfgs_b terminated abnormally with the  state: {'grad': array([-0.01020962]), 'task': b'ABNORMAL_TERMINATION_IN_LNSRCH', 'funcalls': 48, 'nit': 3, 'warnflag': 2}\n",
      "  \" state: %s\" % convergence_dict)\n"
     ]
    },
    {
     "name": "stdout",
     "output_type": "stream",
     "text": [
      "   42 | 02m52s |    0.73137 |             0.5307 |    0.0388 |      9.8081 |            93.5311 |      0.9723 | \n",
      "Multiple eval metrics have been passed: 'test-auc' will be used for early stopping.\n",
      "\n",
      "Will train until test-auc hasn't improved in 50 rounds.\n",
      "Stopping. Best iteration:\n",
      "[304]\ttrain-auc:0.757146+0.000563681\ttest-auc:0.732093+0.00288155\n",
      "\n"
     ]
    },
    {
     "name": "stderr",
     "output_type": "stream",
     "text": [
      "C:\\python\\Anaconda3\\lib\\site-packages\\sklearn\\gaussian_process\\gpr.py:427: UserWarning: fmin_l_bfgs_b terminated abnormally with the  state: {'grad': array([ 0.00012107]), 'task': b'ABNORMAL_TERMINATION_IN_LNSRCH', 'funcalls': 55, 'nit': 5, 'warnflag': 2}\n",
      "  \" state: %s\" % convergence_dict)\n"
     ]
    },
    {
     "name": "stdout",
     "output_type": "stream",
     "text": [
      "   43 | 03m53s |    0.73209 |             0.9738 |    1.9732 |      3.0307 |            23.3761 |      0.5230 | \n",
      "Multiple eval metrics have been passed: 'test-auc' will be used for early stopping.\n",
      "\n",
      "Will train until test-auc hasn't improved in 50 rounds.\n",
      "Stopping. Best iteration:\n",
      "[296]\ttrain-auc:0.753149+0.000533646\ttest-auc:0.732763+0.00290654\n",
      "\n"
     ]
    },
    {
     "name": "stderr",
     "output_type": "stream",
     "text": [
      "C:\\python\\Anaconda3\\lib\\site-packages\\sklearn\\gaussian_process\\gpr.py:427: UserWarning: fmin_l_bfgs_b terminated abnormally with the  state: {'grad': array([-0.00082022]), 'task': b'ABNORMAL_TERMINATION_IN_LNSRCH', 'funcalls': 54, 'nit': 5, 'warnflag': 2}\n",
      "  \" state: %s\" % convergence_dict)\n",
      "C:\\python\\Anaconda3\\lib\\site-packages\\sklearn\\gaussian_process\\gpr.py:427: UserWarning: fmin_l_bfgs_b terminated abnormally with the  state: {'grad': array([-0.00937212]), 'task': b'ABNORMAL_TERMINATION_IN_LNSRCH', 'funcalls': 53, 'nit': 5, 'warnflag': 2}\n",
      "  \" state: %s\" % convergence_dict)\n"
     ]
    },
    {
     "name": "stdout",
     "output_type": "stream",
     "text": [
      "   44 | 02m46s |    0.73276 |             0.5850 |    1.8790 |      3.1292 |            59.2059 |      0.5049 | \n",
      "Multiple eval metrics have been passed: 'test-auc' will be used for early stopping.\n",
      "\n",
      "Will train until test-auc hasn't improved in 50 rounds.\n",
      "Stopping. Best iteration:\n",
      "[66]\ttrain-auc:0.900004+0.00148187\ttest-auc:0.724378+0.00237957\n",
      "\n"
     ]
    },
    {
     "name": "stderr",
     "output_type": "stream",
     "text": [
      "C:\\python\\Anaconda3\\lib\\site-packages\\sklearn\\gaussian_process\\gpr.py:427: UserWarning: fmin_l_bfgs_b terminated abnormally with the  state: {'grad': array([-0.00524904]), 'task': b'ABNORMAL_TERMINATION_IN_LNSRCH', 'funcalls': 62, 'nit': 6, 'warnflag': 2}\n",
      "  \" state: %s\" % convergence_dict)\n"
     ]
    },
    {
     "name": "stdout",
     "output_type": "stream",
     "text": [
      "   45 | 03m31s |    0.72438 |             0.9266 |    1.8986 |      9.8413 |             0.0869 |      0.7534 | \n",
      "Multiple eval metrics have been passed: 'test-auc' will be used for early stopping.\n",
      "\n",
      "Will train until test-auc hasn't improved in 50 rounds.\n",
      "Stopping. Best iteration:\n",
      "[121]\ttrain-auc:0.789505+0.0012401\ttest-auc:0.731256+0.00304609\n",
      "\n",
      "   46 | 02m26s |    0.73126 |             0.5064 |    0.0905 |      6.2663 |            19.1586 |      0.9127 | \n",
      "Multiple eval metrics have been passed: 'test-auc' will be used for early stopping.\n",
      "\n",
      "Will train until test-auc hasn't improved in 50 rounds.\n",
      "Stopping. Best iteration:\n",
      "[120]\ttrain-auc:0.805623+0.00149513\ttest-auc:0.730147+0.0025048\n",
      "\n"
     ]
    },
    {
     "name": "stderr",
     "output_type": "stream",
     "text": [
      "C:\\python\\Anaconda3\\lib\\site-packages\\sklearn\\gaussian_process\\gpr.py:427: UserWarning: fmin_l_bfgs_b terminated abnormally with the  state: {'grad': array([-0.00035053]), 'task': b'ABNORMAL_TERMINATION_IN_LNSRCH', 'funcalls': 51, 'nit': 4, 'warnflag': 2}\n",
      "  \" state: %s\" % convergence_dict)\n",
      "C:\\python\\Anaconda3\\lib\\site-packages\\sklearn\\gaussian_process\\gpr.py:427: UserWarning: fmin_l_bfgs_b terminated abnormally with the  state: {'grad': array([-0.00085365]), 'task': b'ABNORMAL_TERMINATION_IN_LNSRCH', 'funcalls': 62, 'nit': 6, 'warnflag': 2}\n",
      "  \" state: %s\" % convergence_dict)\n",
      "C:\\python\\Anaconda3\\lib\\site-packages\\sklearn\\gaussian_process\\gpr.py:427: UserWarning: fmin_l_bfgs_b terminated abnormally with the  state: {'grad': array([-0.00021704]), 'task': b'ABNORMAL_TERMINATION_IN_LNSRCH', 'funcalls': 53, 'nit': 6, 'warnflag': 2}\n",
      "  \" state: %s\" % convergence_dict)\n",
      "C:\\python\\Anaconda3\\lib\\site-packages\\sklearn\\gaussian_process\\gpr.py:427: UserWarning: fmin_l_bfgs_b terminated abnormally with the  state: {'grad': array([-0.00014279]), 'task': b'ABNORMAL_TERMINATION_IN_LNSRCH', 'funcalls': 56, 'nit': 7, 'warnflag': 2}\n",
      "  \" state: %s\" % convergence_dict)\n"
     ]
    },
    {
     "name": "stdout",
     "output_type": "stream",
     "text": [
      "   47 | 04m02s |    0.73015 |             0.9926 |    0.1643 |      8.7643 |            74.7417 |      0.9834 | \n",
      "Multiple eval metrics have been passed: 'test-auc' will be used for early stopping.\n",
      "\n",
      "Will train until test-auc hasn't improved in 50 rounds.\n",
      "Stopping. Best iteration:\n",
      "[376]\ttrain-auc:0.763947+0.000478171\ttest-auc:0.731917+0.0026754\n",
      "\n",
      "   48 | 04m04s |    0.73192 |             0.9764 |    1.7190 |      3.1761 |             3.0137 |      0.9964 | \n",
      "Wall time: 2h 44min 23s\n"
     ]
    }
   ],
   "source": [
    "%%time\n",
    "xgb_BO.maximize(init_points=8, n_iter=40)"
   ]
  },
  {
   "cell_type": "code",
   "execution_count": 201,
   "metadata": {
    "collapsed": false,
    "scrolled": false
   },
   "outputs": [
    {
     "data": {
      "text/html": [
       "<div>\n",
       "<style>\n",
       "    .dataframe thead tr:only-child th {\n",
       "        text-align: right;\n",
       "    }\n",
       "\n",
       "    .dataframe thead th {\n",
       "        text-align: left;\n",
       "    }\n",
       "\n",
       "    .dataframe tbody tr th {\n",
       "        vertical-align: top;\n",
       "    }\n",
       "</style>\n",
       "<table border=\"1\" class=\"dataframe\">\n",
       "  <thead>\n",
       "    <tr style=\"text-align: right;\">\n",
       "      <th></th>\n",
       "      <th>index</th>\n",
       "      <th>colsample_bytree</th>\n",
       "      <th>gamma</th>\n",
       "      <th>max_depth</th>\n",
       "      <th>min_child_weight</th>\n",
       "      <th>subsample</th>\n",
       "      <th>score</th>\n",
       "    </tr>\n",
       "  </thead>\n",
       "  <tbody>\n",
       "    <tr>\n",
       "      <th>0</th>\n",
       "      <td>16</td>\n",
       "      <td>0.512271</td>\n",
       "      <td>0.093932</td>\n",
       "      <td>3.128158</td>\n",
       "      <td>62.103749</td>\n",
       "      <td>0.926263</td>\n",
       "      <td>0.733219</td>\n",
       "    </tr>\n",
       "    <tr>\n",
       "      <th>1</th>\n",
       "      <td>21</td>\n",
       "      <td>0.519508</td>\n",
       "      <td>0.046611</td>\n",
       "      <td>3.009198</td>\n",
       "      <td>75.146367</td>\n",
       "      <td>0.922384</td>\n",
       "      <td>0.733133</td>\n",
       "    </tr>\n",
       "    <tr>\n",
       "      <th>2</th>\n",
       "      <td>27</td>\n",
       "      <td>0.509843</td>\n",
       "      <td>1.309254</td>\n",
       "      <td>3.173647</td>\n",
       "      <td>93.009456</td>\n",
       "      <td>0.998017</td>\n",
       "      <td>0.733073</td>\n",
       "    </tr>\n",
       "    <tr>\n",
       "      <th>3</th>\n",
       "      <td>22</td>\n",
       "      <td>0.512193</td>\n",
       "      <td>0.082187</td>\n",
       "      <td>3.124860</td>\n",
       "      <td>89.948624</td>\n",
       "      <td>0.665704</td>\n",
       "      <td>0.733070</td>\n",
       "    </tr>\n",
       "    <tr>\n",
       "      <th>4</th>\n",
       "      <td>29</td>\n",
       "      <td>0.595658</td>\n",
       "      <td>0.056093</td>\n",
       "      <td>3.108773</td>\n",
       "      <td>53.271249</td>\n",
       "      <td>0.960228</td>\n",
       "      <td>0.732956</td>\n",
       "    </tr>\n",
       "  </tbody>\n",
       "</table>\n",
       "</div>"
      ],
      "text/plain": [
       "   index  colsample_bytree     gamma  max_depth  min_child_weight  subsample  \\\n",
       "0     16          0.512271  0.093932   3.128158         62.103749   0.926263   \n",
       "1     21          0.519508  0.046611   3.009198         75.146367   0.922384   \n",
       "2     27          0.509843  1.309254   3.173647         93.009456   0.998017   \n",
       "3     22          0.512193  0.082187   3.124860         89.948624   0.665704   \n",
       "4     29          0.595658  0.056093   3.108773         53.271249   0.960228   \n",
       "\n",
       "      score  \n",
       "0  0.733219  \n",
       "1  0.733133  \n",
       "2  0.733073  \n",
       "3  0.733070  \n",
       "4  0.732956  "
      ]
     },
     "execution_count": 201,
     "metadata": {},
     "output_type": "execute_result"
    }
   ],
   "source": [
    "BO_scores = pd.DataFrame(xgb_BO.res['all']['params'])\n",
    "BO_scores['score'] = pd.DataFrame(xgb_BO.res['all']['values'])\n",
    "BO_scores = BO_scores.sort_values(by='score',ascending=False).reset_index()\n",
    "BO_scores.head()"
   ]
  },
  {
   "cell_type": "markdown",
   "metadata": {},
   "source": [
    "## Find Best Parameters\n",
    "\n",
    "The resulted parameters are sorted in a descending order of their corresponding scores. The best parameters yield an AUC score of 0.733219. The best parameters are then input to the cross-validation function to find the best interation.\n",
    "\n",
    "* 'max_depth': 3, \n",
    "* 'min_child_weight': 62, \n",
    "* 'colsample_bytree': 0.5123, \n",
    "* 'subsample': 0.9262, \n",
    "* 'gamma': 0.093932, \n",
    "* 'objective': 'binary:logistic', \n",
    "* 'eta': 0.02, \n",
    "* 'seed': 1234"
   ]
  },
  {
   "cell_type": "code",
   "execution_count": 209,
   "metadata": {
    "collapsed": false,
    "scrolled": true
   },
   "outputs": [],
   "source": [
    "best_params = dict()\n",
    "\n",
    "best_params['max_depth'] = int(BO_scores['max_depth'][0])\n",
    "best_params['min_child_weight'] = int(BO_scores['min_child_weight'][0])\n",
    "best_params['colsample_bytree'] = BO_scores['colsample_bytree'][0]\n",
    "best_params['subsample'] = BO_scores['subsample'][0]\n",
    "best_params['gamma'] = BO_scores['gamma'][0]\n",
    "\n",
    "best_params['objective'] = 'binary:logistic'\n",
    "best_params['eta'] = 0.02\n",
    "best_params['seed'] = 1234"
   ]
  },
  {
   "cell_type": "code",
   "execution_count": 210,
   "metadata": {
    "collapsed": true
   },
   "outputs": [
    {
     "name": "stdout",
     "output_type": "stream",
     "text": [
      "Multiple eval metrics have been passed: 'test-auc' will be used for early stopping.\n",
      "\n",
      "Will train until test-auc hasn't improved in 200 rounds.\n",
      "[0]\ttrain-auc:0.682243+0.0108175\ttest-auc:0.679998+0.0119664\n",
      "[50]\ttrain-auc:0.713297+0.000297819\ttest-auc:0.711012+0.0015505\n",
      "[100]\ttrain-auc:0.716541+0.000283336\ttest-auc:0.713916+0.00130518\n",
      "[150]\ttrain-auc:0.72062+0.000363427\ttest-auc:0.717262+0.00137011\n",
      "[200]\ttrain-auc:0.724822+0.000434748\ttest-auc:0.720502+0.00156927\n",
      "[250]\ttrain-auc:0.728324+0.000497568\ttest-auc:0.723073+0.00177707\n",
      "[300]\ttrain-auc:0.731077+0.000584943\ttest-auc:0.724928+0.00184167\n",
      "[350]\ttrain-auc:0.733209+0.000604974\ttest-auc:0.726233+0.0020002\n",
      "[400]\ttrain-auc:0.734992+0.000645641\ttest-auc:0.727226+0.0021023\n",
      "[450]\ttrain-auc:0.736503+0.000662254\ttest-auc:0.72792+0.00219674\n",
      "[500]\ttrain-auc:0.737829+0.000632363\ttest-auc:0.728534+0.00221304\n",
      "[550]\ttrain-auc:0.739036+0.000639398\ttest-auc:0.72903+0.00225299\n",
      "[600]\ttrain-auc:0.740112+0.000634181\ttest-auc:0.729458+0.00230512\n",
      "[650]\ttrain-auc:0.741157+0.000651003\ttest-auc:0.729875+0.00230977\n",
      "[700]\ttrain-auc:0.742157+0.000680951\ttest-auc:0.73016+0.00229048\n",
      "[750]\ttrain-auc:0.74312+0.00070133\ttest-auc:0.730474+0.0022876\n",
      "[800]\ttrain-auc:0.744052+0.000664875\ttest-auc:0.730779+0.00234751\n",
      "[850]\ttrain-auc:0.744982+0.000686311\ttest-auc:0.731046+0.00235149\n",
      "[900]\ttrain-auc:0.745856+0.00063966\ttest-auc:0.731276+0.00239936\n",
      "[950]\ttrain-auc:0.746694+0.000630096\ttest-auc:0.731472+0.00244611\n",
      "[1000]\ttrain-auc:0.747495+0.000645311\ttest-auc:0.731671+0.00247117\n",
      "[1050]\ttrain-auc:0.748305+0.000640302\ttest-auc:0.731891+0.00252535\n",
      "[1100]\ttrain-auc:0.749043+0.000653283\ttest-auc:0.732061+0.00253577\n",
      "[1150]\ttrain-auc:0.749782+0.000657596\ttest-auc:0.732229+0.00258053\n",
      "[1200]\ttrain-auc:0.750508+0.000661551\ttest-auc:0.732397+0.00261544\n",
      "[1250]\ttrain-auc:0.751205+0.000615547\ttest-auc:0.732531+0.00263533\n",
      "[1300]\ttrain-auc:0.751873+0.000646782\ttest-auc:0.732652+0.00265885\n",
      "[1350]\ttrain-auc:0.752551+0.000643541\ttest-auc:0.732771+0.00268592\n",
      "[1400]\ttrain-auc:0.753236+0.000654599\ttest-auc:0.732855+0.00268072\n",
      "[1450]\ttrain-auc:0.753876+0.000635361\ttest-auc:0.732966+0.00269643\n",
      "[1500]\ttrain-auc:0.7545+0.000630803\ttest-auc:0.733048+0.0026974\n",
      "[1550]\ttrain-auc:0.755115+0.000611254\ttest-auc:0.733112+0.00273045\n",
      "[1600]\ttrain-auc:0.755759+0.00059481\ttest-auc:0.733169+0.00273798\n",
      "[1650]\ttrain-auc:0.756346+0.000591117\ttest-auc:0.733216+0.00274793\n",
      "[1700]\ttrain-auc:0.756937+0.000559834\ttest-auc:0.733277+0.00276342\n",
      "[1750]\ttrain-auc:0.757523+0.00054847\ttest-auc:0.733331+0.00276949\n",
      "[1800]\ttrain-auc:0.758085+0.000562442\ttest-auc:0.733377+0.00278346\n",
      "[1850]\ttrain-auc:0.758637+0.000560553\ttest-auc:0.733426+0.00281358\n",
      "[1900]\ttrain-auc:0.7592+0.000550187\ttest-auc:0.733476+0.00282076\n",
      "[1950]\ttrain-auc:0.759777+0.000552245\ttest-auc:0.733488+0.0028304\n",
      "[2000]\ttrain-auc:0.760305+0.000586761\ttest-auc:0.733526+0.00284197\n",
      "[2050]\ttrain-auc:0.760858+0.000594722\ttest-auc:0.733566+0.0028443\n",
      "[2100]\ttrain-auc:0.761409+0.000575077\ttest-auc:0.733614+0.00286392\n",
      "[2150]\ttrain-auc:0.761956+0.000624503\ttest-auc:0.733619+0.00285949\n",
      "[2200]\ttrain-auc:0.762489+0.000617424\ttest-auc:0.733646+0.00285168\n",
      "[2250]\ttrain-auc:0.763015+0.000610876\ttest-auc:0.733667+0.00288384\n",
      "[2300]\ttrain-auc:0.763516+0.000624708\ttest-auc:0.733715+0.0028872\n",
      "[2350]\ttrain-auc:0.764031+0.000625397\ttest-auc:0.733746+0.00291504\n",
      "[2400]\ttrain-auc:0.764528+0.000626316\ttest-auc:0.733781+0.00291829\n",
      "[2450]\ttrain-auc:0.765015+0.000609701\ttest-auc:0.733788+0.00290659\n",
      "[2500]\ttrain-auc:0.765519+0.000642928\ttest-auc:0.733785+0.00290646\n",
      "[2550]\ttrain-auc:0.766012+0.0006284\ttest-auc:0.733759+0.00291553\n",
      "[2600]\ttrain-auc:0.766489+0.000623472\ttest-auc:0.733765+0.00291173\n",
      "Stopping. Best iteration:\n",
      "[2442]\ttrain-auc:0.764941+0.000608611\ttest-auc:0.733794+0.00290991\n",
      "\n",
      "Best score 0.733794, best iteration 2443\n"
     ]
    }
   ],
   "source": [
    "cv_result = xgb.cv(best_params, dtrain,\n",
    "                   num_boost_round=15000,\n",
    "                   nfold=5,\n",
    "                   metrics={'auc'},\n",
    "                   seed=1234,\n",
    "                   stratified=True,\n",
    "                   callbacks=[xgb.callback.early_stop(200)],\n",
    "                   verbose_eval=50)\n",
    "\n",
    "\n",
    "best_iteration = len(cv_result)\n",
    "best_score = cv_result['test-auc-mean'].max()\n",
    "print(\"Best score %f, best iteration %d\" % (best_score,best_iteration) )"
   ]
  },
  {
   "cell_type": "markdown",
   "metadata": {},
   "source": [
    "Through cross-validation, the best iteration is found to be 2443, and the corresponding best AUC score is 0.7338. The XGBoost model is then trained on the training set, based on the best parameters and iteration.  "
   ]
  },
  {
   "cell_type": "code",
   "execution_count": 213,
   "metadata": {
    "collapsed": false
   },
   "outputs": [],
   "source": [
    "gbm = xgb.train(best_params, dtrain, num_boost_round=best_iteration)"
   ]
  },
  {
   "cell_type": "markdown",
   "metadata": {},
   "source": [
    "# Model Integration\n",
    "\n",
    "[[go back to the top]](#TABLE-OF-CONTENTS)\n",
    "\n",
    "## Pickle Model (gbm) and Feature. \n",
    "\n",
    "The trained XGBoost model object \"gbm\" here is saved into a pickle file named \"model.pkl\". A input file containing an example dataset is saved into a pickle file named \"feature.pkl\". Both model.pkl and feature.pkl are saved into a web-application framework build with Flask. Running the Flask framework results in a web application interface which allow users to adjust important parameters of a loan and get a predicted default rate. As pictured below. \n",
    "![Fintech Web Application Interface](Fintech.png)"
   ]
  },
  {
   "cell_type": "code",
   "execution_count": 214,
   "metadata": {
    "collapsed": true
   },
   "outputs": [],
   "source": [
    "import pickle"
   ]
  },
  {
   "cell_type": "code",
   "execution_count": 215,
   "metadata": {
    "collapsed": false
   },
   "outputs": [],
   "source": [
    "with open('model.pkl', 'wb') as outfile:\n",
    "    pickle.dump(gbm, outfile)"
   ]
  },
  {
   "cell_type": "markdown",
   "metadata": {},
   "source": [
    "The example dataset in the feature.pkl file uses the average of x_test as the default values for all features. "
   ]
  },
  {
   "cell_type": "code",
   "execution_count": 217,
   "metadata": {
    "collapsed": true
   },
   "outputs": [],
   "source": [
    "feature = pd.DataFrame(index = [0],columns= x_test.columns)"
   ]
  },
  {
   "cell_type": "code",
   "execution_count": 218,
   "metadata": {
    "collapsed": false
   },
   "outputs": [],
   "source": [
    "for i in x_test[num_vars].columns:\n",
    "    if x_test.loc[:, i].dtypes == 'float64':\n",
    "        feature[i] = round(x_test.loc[:, i].mean(), 2)\n",
    "    else:\n",
    "        feature[i] = int(round(x_test.loc[:, i].mean()))"
   ]
  },
  {
   "cell_type": "code",
   "execution_count": 219,
   "metadata": {
    "collapsed": false
   },
   "outputs": [],
   "source": [
    "feature[OHE_vars] = 0\n",
    "feature[OHE_vars] = feature[OHE_vars].astype('int')"
   ]
  },
  {
   "cell_type": "code",
   "execution_count": 220,
   "metadata": {
    "collapsed": false
   },
   "outputs": [],
   "source": [
    "feature['home_mort'] = 1\n",
    "feature['pur_debt_consolidation'] = 1\n",
    "feature['isincv_nv'] = 1"
   ]
  },
  {
   "cell_type": "code",
   "execution_count": 221,
   "metadata": {
    "collapsed": false
   },
   "outputs": [],
   "source": [
    "with open('feature.pkl', 'wb') as outfile:\n",
    "    pickle.dump(feature, outfile)"
   ]
  },
  {
   "cell_type": "markdown",
   "metadata": {},
   "source": [
    "# Model Evaluation\n",
    "\n",
    "[[go back to the top]](#TABLE-OF-CONTENTS)\n",
    "\n",
    "## Feature Importance\n",
    "\n",
    "The importance of features is generated based on the feature importance scores from the XGBoost model. From the table and plot below it is found that the top 10 important features include Annual Income, Debt to Income Ratio, Interest Rate, Portion of Balance, and so on. Generally the important features match the trend observed in the [Feature Responses Visualization](#Feature-Responses-Visualization).   "
   ]
  },
  {
   "cell_type": "code",
   "execution_count": 222,
   "metadata": {
    "collapsed": false
   },
   "outputs": [],
   "source": [
    "importance = gbm.get_fscore()\n",
    "df_importance = pd.DataFrame(list(importance.items()), columns = ['feature', 'fscore'])\n",
    "df_importance['fscore'] = df_importance['fscore']/df_importance['fscore'].sum()\n",
    "df_importance.sort_values(['fscore'], ascending= False, inplace= True)"
   ]
  },
  {
   "cell_type": "code",
   "execution_count": 225,
   "metadata": {
    "collapsed": false
   },
   "outputs": [
    {
     "data": {
      "text/html": [
       "<div>\n",
       "<style>\n",
       "    .dataframe thead tr:only-child th {\n",
       "        text-align: right;\n",
       "    }\n",
       "\n",
       "    .dataframe thead th {\n",
       "        text-align: left;\n",
       "    }\n",
       "\n",
       "    .dataframe tbody tr th {\n",
       "        vertical-align: top;\n",
       "    }\n",
       "</style>\n",
       "<table border=\"1\" class=\"dataframe\">\n",
       "  <thead>\n",
       "    <tr style=\"text-align: right;\">\n",
       "      <th></th>\n",
       "      <th>feature</th>\n",
       "      <th>fscore</th>\n",
       "    </tr>\n",
       "  </thead>\n",
       "  <tbody>\n",
       "    <tr>\n",
       "      <th>7</th>\n",
       "      <td>annualinc</td>\n",
       "      <td>0.042099</td>\n",
       "    </tr>\n",
       "    <tr>\n",
       "      <th>3</th>\n",
       "      <td>dti</td>\n",
       "      <td>0.039607</td>\n",
       "    </tr>\n",
       "    <tr>\n",
       "      <th>24</th>\n",
       "      <td>addrzip</td>\n",
       "      <td>0.037653</td>\n",
       "    </tr>\n",
       "    <tr>\n",
       "      <th>1</th>\n",
       "      <td>intrate</td>\n",
       "      <td>0.036508</td>\n",
       "    </tr>\n",
       "    <tr>\n",
       "      <th>9</th>\n",
       "      <td>loanamount</td>\n",
       "      <td>0.031254</td>\n",
       "    </tr>\n",
       "    <tr>\n",
       "      <th>11</th>\n",
       "      <td>installment</td>\n",
       "      <td>0.029503</td>\n",
       "    </tr>\n",
       "    <tr>\n",
       "      <th>18</th>\n",
       "      <td>mosinoldrevtlop</td>\n",
       "      <td>0.027684</td>\n",
       "    </tr>\n",
       "    <tr>\n",
       "      <th>25</th>\n",
       "      <td>revolbal</td>\n",
       "      <td>0.025057</td>\n",
       "    </tr>\n",
       "    <tr>\n",
       "      <th>4</th>\n",
       "      <td>avgcurbal</td>\n",
       "      <td>0.024923</td>\n",
       "    </tr>\n",
       "    <tr>\n",
       "      <th>30</th>\n",
       "      <td>credit_hist</td>\n",
       "      <td>0.023980</td>\n",
       "    </tr>\n",
       "  </tbody>\n",
       "</table>\n",
       "</div>"
      ],
      "text/plain": [
       "            feature    fscore\n",
       "7         annualinc  0.042099\n",
       "3               dti  0.039607\n",
       "24          addrzip  0.037653\n",
       "1           intrate  0.036508\n",
       "9        loanamount  0.031254\n",
       "11      installment  0.029503\n",
       "18  mosinoldrevtlop  0.027684\n",
       "25         revolbal  0.025057\n",
       "4         avgcurbal  0.024923\n",
       "30      credit_hist  0.023980"
      ]
     },
     "execution_count": 225,
     "metadata": {},
     "output_type": "execute_result"
    }
   ],
   "source": [
    "df_importance.head(10)"
   ]
  },
  {
   "cell_type": "code",
   "execution_count": 226,
   "metadata": {
    "collapsed": false
   },
   "outputs": [
    {
     "data": {
      "image/png": "[encoded data removed]",
      "text/plain": [
       "<matplotlib.figure.Figure at 0x265a23b1cc0>"
      ]
     },
     "metadata": {},
     "output_type": "display_data"
    }
   ],
   "source": [
    "df_importance[:10].sort_values(by='fscore').plot(kind = 'barh', x = 'feature', y = 'fscore', legend= False, figsize=(6,8) )\n",
    "plt.xlabel('Relative Importance', fontsize = 16)\n",
    "plt.ylabel('Feature Name', fontsize = 16)\n",
    "plt.tick_params(labelsize = 14)"
   ]
  },
  {
   "cell_type": "markdown",
   "metadata": {},
   "source": [
    "## Testing Set Scores\n",
    "\n",
    "The trained model is then used to predict the default rates in the testing dateset. The predicted default rate on the test set is about 0.2055, very close to the average default rate of around 0.20. The result of model performance is visualized via the ROC curve. The AUC scores on the training and validation sets are about 0.76, and the AUC score on the testing set is about 0.72. "
   ]
  },
  {
   "cell_type": "code",
   "execution_count": 227,
   "metadata": {
    "collapsed": true
   },
   "outputs": [],
   "source": [
    "y_pred = gbm.predict(dtest)"
   ]
  },
  {
   "cell_type": "code",
   "execution_count": 229,
   "metadata": {
    "collapsed": false
   },
   "outputs": [
    {
     "data": {
      "text/plain": [
       "(0.20550095, 0.87483752, 0.0055377535)"
      ]
     },
     "execution_count": 229,
     "metadata": {},
     "output_type": "execute_result"
    }
   ],
   "source": [
    "y_pred.mean(), y_pred.max(), y_pred.min()"
   ]
  },
  {
   "cell_type": "code",
   "execution_count": 230,
   "metadata": {
    "collapsed": false
   },
   "outputs": [
    {
     "data": {
      "text/plain": [
       "0.1990744936336037"
      ]
     },
     "execution_count": 230,
     "metadata": {},
     "output_type": "execute_result"
    }
   ],
   "source": [
    "df_2014.loanstatus.mean()"
   ]
  },
  {
   "cell_type": "markdown",
   "metadata": {
    "collapsed": false
   },
   "source": [
    "#### Train/Test Split in x_train"
   ]
  },
  {
   "cell_type": "code",
   "execution_count": 231,
   "metadata": {
    "collapsed": false
   },
   "outputs": [],
   "source": [
    "from sklearn.cross_validation import StratifiedKFold\n",
    "from sklearn.cross_validation import train_test_split"
   ]
  },
  {
   "cell_type": "code",
   "execution_count": 232,
   "metadata": {
    "collapsed": false
   },
   "outputs": [],
   "source": [
    "x_t, x_cv, y_t, y_cv = train_test_split(x_train, y_train, test_size = 0.3, \\\n",
    "                                    random_state = 1234, stratify = y_train)"
   ]
  },
  {
   "cell_type": "markdown",
   "metadata": {},
   "source": [
    "## Plot ROC-AUC"
   ]
  },
  {
   "cell_type": "code",
   "execution_count": 233,
   "metadata": {
    "collapsed": true
   },
   "outputs": [],
   "source": [
    "from sklearn.metrics import roc_curve, auc\n",
    "from sklearn import linear_model, datasets"
   ]
  },
  {
   "cell_type": "code",
   "execution_count": 234,
   "metadata": {
    "collapsed": false
   },
   "outputs": [
    {
     "data": {
      "text/plain": [
       "pandas.core.series.Series"
      ]
     },
     "execution_count": 234,
     "metadata": {},
     "output_type": "execute_result"
    }
   ],
   "source": [
    "type(y_t)"
   ]
  },
  {
   "cell_type": "code",
   "execution_count": 235,
   "metadata": {
    "collapsed": false
   },
   "outputs": [],
   "source": [
    "def draw_ROC (model, traindata, cvdata, testdata, trainy, cvy, testy):\n",
    "    prob_0 = model.predict(traindata)\n",
    "    prob_1 = model.predict(cvdata)\n",
    "    prob_2 = model.predict(testdata)\n",
    "    fpr_0, tpr_0, thresholds_0 = roc_curve(trainy, prob_0)\n",
    "    fpr_1, tpr_1, thresholds_1 = roc_curve(cvy, prob_1)\n",
    "    fpr_2, tpr_2, thresholds_2 = roc_curve(testy, prob_2)\n",
    "    roc_auc_0 = auc(fpr_0, tpr_0)\n",
    "    roc_auc_1 = auc(fpr_1, tpr_1)\n",
    "    roc_auc_2 = auc(fpr_2, tpr_2)\n",
    "    \n",
    "    print (\"Area under the ROC Curve - Train: %f\" %(roc_auc_0))\n",
    "    print (\"Area under the ROC Curve - Validation: %f\" % (roc_auc_1))\n",
    "    print (\"Area under the ROC Curve - Test: %f\" % (roc_auc_2))\n",
    "    \n",
    "    Youdens_0 = tpr_0 - fpr_0\n",
    "    Youdens_1 = tpr_1 - fpr_1\n",
    "    Youdens_2 = tpr_2 - fpr_2\n",
    "    \n",
    "    #Plot ROC Curve\n",
    "    plt.figure(figsize = (8,8))\n",
    "    plt.plot(fpr_0, tpr_0, label = 'ROC Curve - Train (AUC = %0.2f)' % (roc_auc_0), color= 'r')\n",
    "    plt.plot(fpr_1, tpr_1, label = 'ROC Curve - Validation (AUC = %0.2f)' % (roc_auc_1), color= 'b')\n",
    "    plt.plot(fpr_2, tpr_2, label = 'ROC Curve - Test (AUC = %0.2f)' % (roc_auc_2), color= 'g')\n",
    "    plt.plot([0,1], [0, 1], 'k--')\n",
    "    plt.xlim([0.0, 1.0])\n",
    "    plt.ylim([0.0, 1.0])\n",
    "    plt.xlabel('False Positive Rate')\n",
    "    plt.ylabel('True Positive Rate')\n",
    "    plt.title('ROC for lead score model')\n",
    "    plt.legend(loc='lower right')\n",
    "    plt.show()\n",
    "    \n",
    "    return (Youdens_0, thresholds_0, Youdens_1, thresholds_1, Youdens_2, thresholds_2)"
   ]
  },
  {
   "cell_type": "code",
   "execution_count": 236,
   "metadata": {
    "collapsed": true
   },
   "outputs": [],
   "source": [
    "x_t_xgb = xgb.DMatrix(x_t, missing= np.nan)\n",
    "x_cv_xgb = xgb.DMatrix(x_cv, missing= np.nan)"
   ]
  },
  {
   "cell_type": "code",
   "execution_count": 237,
   "metadata": {
    "collapsed": false
   },
   "outputs": [
    {
     "name": "stdout",
     "output_type": "stream",
     "text": [
      "Area under the ROC Curve - Train: 0.760763\n",
      "Area under the ROC Curve - Validation: 0.758659\n",
      "Area under the ROC Curve - Test: 0.719680\n"
     ]
    },
    {
     "data": {
      "image/png": "[encoded data removed]",
      "text/plain": [
       "<matplotlib.figure.Figure at 0x265a19a3eb8>"
      ]
     },
     "metadata": {},
     "output_type": "display_data"
    }
   ],
   "source": [
    "Youdens_0, thresholds_0, Youdens_1, thresholds_1, Youdens_2, thresholds_2 = \\\n",
    "draw_ROC(gbm, x_t_xgb, x_cv_xgb, dtest, y_t, y_cv, y_test)"
   ]
  },
  {
   "cell_type": "markdown",
   "metadata": {},
   "source": [
    "## Select Thresholds"
   ]
  },
  {
   "cell_type": "markdown",
   "metadata": {},
   "source": [
    "The best threshold of predicting default is determined based on Youden's Index. The Youden's Index optimizes the sensitivity and specificity. From the figure below, Youden's Index maximizes at a threshold of 0.18. The maximum f1-score at the threshold of 0.18 is 0.48721, with a recall rate of 0.71, suggesting that the model has 71% chance in correctly identifying the default loans. "
   ]
  },
  {
   "cell_type": "code",
   "execution_count": 238,
   "metadata": {
    "collapsed": false
   },
   "outputs": [
    {
     "data": {
      "text/plain": [
       "<matplotlib.text.Text at 0x265a1d52198>"
      ]
     },
     "execution_count": 238,
     "metadata": {},
     "output_type": "execute_result"
    },
    {
     "data": {
      "image/png": "[encoded data removed]",
      "text/plain": [
       "<matplotlib.figure.Figure at 0x265a1e0ca58>"
      ]
     },
     "metadata": {},
     "output_type": "display_data"
    }
   ],
   "source": [
    "plt.figure(figsize = (8,8))\n",
    "plt.plot(thresholds_0, Youdens_0, label = \"Youden's Index - Train\", color= 'r')\n",
    "plt.plot(thresholds_1, Youdens_1, label = \"Youden's Index - Validation\", color= 'b')\n",
    "plt.plot(thresholds_2, Youdens_2, label = \"Youden's Index - Test\", color= 'g')\n",
    "plt.xlabel('Thresholds')\n",
    "plt.ylabel(\"Youden's Index\")"
   ]
  },
  {
   "cell_type": "code",
   "execution_count": 239,
   "metadata": {
    "collapsed": true
   },
   "outputs": [],
   "source": [
    "best_threshold = 0.2"
   ]
  },
  {
   "cell_type": "code",
   "execution_count": 240,
   "metadata": {
    "collapsed": false,
    "scrolled": true
   },
   "outputs": [],
   "source": [
    "from sklearn.metrics import precision_recall_fscore_support"
   ]
  },
  {
   "cell_type": "code",
   "execution_count": 243,
   "metadata": {
    "collapsed": false
   },
   "outputs": [
    {
     "name": "stdout",
     "output_type": "stream",
     "text": [
      "threshold: 0 (0.24376501016072419, 1.0, 0.39197920534719644, None)\n",
      "threshold: 0.1 (0.30579868708971553, 0.90024630541871919, 0.45652382782475021, None)\n",
      "threshold: 0.15 (0.34618420506003073, 0.78940886699507384, 0.48130071909203798, None)\n",
      "threshold: 0.18 (0.36983947768887143, 0.71371731716559306, 0.48721182138584412, None)\n",
      "threshold: 0.2 (0.38519745926539628, 0.6606669192876089, 0.48665433864833735, None)\n",
      "threshold: 0.22 (0.40070833851124643, 0.61093217127699884, 0.48397748592870543, None)\n",
      "threshold: 0.4 (0.51305713724720203, 0.24753694581280788, 0.33395105118537927, None)\n"
     ]
    }
   ],
   "source": [
    "for thrd in [0, 0.1, 0.15, 0.18, 0.2, 0.22, 0.4]:\n",
    "    test_results = []\n",
    "    for prob in y_pred:\n",
    "        if prob > thrd:\n",
    "            test_results.append(1)\n",
    "        else:\n",
    "            test_results.append(0)\n",
    "    print (\"threshold:\", thrd, precision_recall_fscore_support(y_test, test_results, pos_label=1, average='binary'))"
   ]
  },
  {
   "cell_type": "markdown",
   "metadata": {
    "collapsed": false
   },
   "source": [
    "# CONCLUSION\n",
    "\n",
    "[[go back to the top]](#TABLE-OF-CONTENTS)"
   ]
  },
  {
   "cell_type": "markdown",
   "metadata": {},
   "source": [
    "This FinTech project built a program that serves as an intelligent investment consultant, which in estabishes a predictive model to evaluate the outcome of loan default rate in real-time, and feedback the prediction results to users via an interactive web-application portal. The model is built upon the historic loan data of year 2014 from the Lending Club's open resource. After data cleaning and feature engineering, model is built based on XGBoost algorithm with AUC score as model metrics. Bayesian Optimization is used to maximize the AUC score and find out the best parameters for the XGBoost model. Finally, a well-tuned predictive model is established with a AUC score of 0.73 on test sets. Feature importance plot shows several key features in predicting the default rate, such as Debt-to-Income Ratio, Annual Income, Portion of Balance, Interest Rate, and so on. "
   ]
  },
  {
   "cell_type": "code",
   "execution_count": null,
   "metadata": {
    "collapsed": true
   },
   "outputs": [],
   "source": []
  }
 ],
 "metadata": {
  "kernelspec": {
   "display_name": "Python 3",
   "language": "python",
   "name": "python3"
  },
  "language_info": {
   "codemirror_mode": {
    "name": "ipython",
    "version": 3
   },
   "file_extension": ".py",
   "mimetype": "text/x-python",
   "name": "python",
   "nbconvert_exporter": "python",
   "pygments_lexer": "ipython3",
   "version": "3.6.0"
  }
 },
 "nbformat": 4,
 "nbformat_minor": 2
}
